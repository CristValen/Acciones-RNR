{
  "nbformat": 4,
  "nbformat_minor": 0,
  "metadata": {
    "colab": {
      "provenance": [],
      "authorship_tag": "ABX9TyMRbobZUntX4qdfBXkvECDF"
    },
    "kernelspec": {
      "name": "python3",
      "display_name": "Python 3"
    },
    "language_info": {
      "name": "python"
    }
  },
  "cells": [
    {
      "cell_type": "code",
      "execution_count": null,
      "metadata": {
        "colab": {
          "base_uri": "https://localhost:8080/",
          "height": 331
        },
        "id": "Gyye2W7uT4Dx",
        "outputId": "3c6f3507-865f-41d7-cf13-81bc3f2f26fb"
      },
      "outputs": [
        {
          "output_type": "error",
          "ename": "ModuleNotFoundError",
          "evalue": "No module named 'pyspark'",
          "traceback": [
            "\u001b[0;31m---------------------------------------------------------------------------\u001b[0m",
            "\u001b[0;31mModuleNotFoundError\u001b[0m                       Traceback (most recent call last)",
            "\u001b[0;32m<ipython-input-1-f271f898c0f8>\u001b[0m in \u001b[0;36m<cell line: 1>\u001b[0;34m()\u001b[0m\n\u001b[0;32m----> 1\u001b[0;31m \u001b[0;32mfrom\u001b[0m \u001b[0mpyspark\u001b[0m\u001b[0;34m.\u001b[0m\u001b[0msql\u001b[0m \u001b[0;32mimport\u001b[0m \u001b[0mSparkSession\u001b[0m\u001b[0;34m\u001b[0m\u001b[0;34m\u001b[0m\u001b[0m\n\u001b[0m\u001b[1;32m      2\u001b[0m \u001b[0mspark\u001b[0m \u001b[0;34m=\u001b[0m \u001b[0mSparkSession\u001b[0m\u001b[0;34m.\u001b[0m\u001b[0mbuilder\u001b[0m\u001b[0;34m.\u001b[0m\u001b[0mmaster\u001b[0m\u001b[0;34m(\u001b[0m\u001b[0;34m\"local[*]\"\u001b[0m\u001b[0;34m)\u001b[0m\u001b[0;34m.\u001b[0m\u001b[0mgetOrCreate\u001b[0m\u001b[0;34m(\u001b[0m\u001b[0;34m)\u001b[0m\u001b[0;34m\u001b[0m\u001b[0;34m\u001b[0m\u001b[0m\n",
            "\u001b[0;31mModuleNotFoundError\u001b[0m: No module named 'pyspark'",
            "",
            "\u001b[0;31m---------------------------------------------------------------------------\u001b[0;32m\nNOTE: If your import is failing due to a missing package, you can\nmanually install dependencies using either !pip or !apt.\n\nTo view examples of installing some common dependencies, click the\n\"Open Examples\" button below.\n\u001b[0;31m---------------------------------------------------------------------------\u001b[0m\n"
          ],
          "errorDetails": {
            "actions": [
              {
                "action": "open_url",
                "actionText": "Open Examples",
                "url": "/notebooks/snippets/importing_libraries.ipynb"
              }
            ]
          }
        }
      ],
      "source": [
        "from pyspark.ml.stat import Correlation\n",
        "from pyspark.ml.feature import VectorAssembler\n",
        "from pyspark.sql.functions import col\n",
        "\n",
        "# Supongamos que tienes un DataFrame de Spark 'df' con las columnas 'col1', 'col2', 'col3'\n",
        "columnas = ['col1', 'col2', 'col3']\n",
        "\n",
        "# Combina las columnas en una sola columna de vectores\n",
        "assembler = VectorAssembler(inputCols=columnas, outputCol=\"combined\")\n",
        "df_vector = assembler.transform(df).select(\"combined\")\n",
        "\n",
        "# Calcula la matriz de correlación de Spearman\n",
        "matrix = Correlation.corr(df_vector, \"combined\", method=\"spearman\").collect()[0][0]\n",
        "\n",
        "# Recorre la matriz de correlación y elimina las columnas con correlación >= 0.4\n",
        "for i in range(len(columnas)):\n",
        "    for j in range(i+1, len(columnas)):\n",
        "        if abs(matrix[i, j]) >= 0.4:\n",
        "            df = df.drop(columnas[j])\n",
        "\n",
        "# Ahora 'df' es tu DataFrame con las columnas correlacionadas eliminadas\n"
      ]
    },
    {
      "cell_type": "code",
      "source": [
        "from pyspark.sql import SparkSession\n",
        "\n",
        "# Supongamos que tienes un DataFrame de Spark 'df' con las columnas 'col1', 'col2', 'col3'\n",
        "columnas = df.columns\n",
        "\n",
        "# Crea un diccionario para almacenar los valores distintos de cada columna\n",
        "valores_distintos = {}\n",
        "\n",
        "# Recorre cada columna y obtén los valores distintos\n",
        "for col in columnas:\n",
        "    valores_distintos[col] = df.select(col).distinct().rdd.flatMap(lambda x: x).collect()\n",
        "\n",
        "# Ahora 'valores_distintos' es un diccionario donde las claves son los nombres de las columnas\n",
        "# y los valores son listas con los valores distintos de cada columna\n"
      ],
      "metadata": {
        "id": "YwvJMDAcc0cB"
      },
      "execution_count": null,
      "outputs": []
    },
    {
      "cell_type": "code",
      "source": [
        "from pyspark.sql import SparkSession\n",
        "from pyspark.ml.feature import VectorAssembler\n",
        "from pyspark.ml.classification import LogisticRegression\n",
        "\n",
        "# Iniciar sesión de Spark\n",
        "spark = SparkSession.builder.appName(\"RegresionLogisticaMultinomial\").getOrCreate()\n",
        "\n",
        "# Cargar datos\n",
        "df = spark.read.csv(\"ruta/a/tu/dataset.csv\", header=True, inferSchema=True)\n",
        "\n",
        "# Lista de variables y sus pesos iniciales\n",
        "variables = ['variable1', 'variable2', 'variable3']\n",
        "pesos = {'variable1': 0.3, 'variable2': 0.5, 'variable3': 0.2}\n",
        "\n",
        "# Asignar pesos a las variables\n",
        "for variable in variables:\n",
        "    df = df.withColumn(variable, df[variable] * pesos[variable])\n",
        "\n",
        "# VectorAssembler para combinar las variables en una sola columna de características\n",
        "assembler = VectorAssembler(inputCols=variables, outputCol=\"features\")\n",
        "df = assembler.transform(df)\n",
        "\n",
        "# Definir y entrenar el modelo de regresión logística multinomial\n",
        "lr = LogisticRegression(featuresCol=\"features\", labelCol=\"nivel_riesgo\", family=\"multinomial\")\n",
        "\n",
        "# Ajustar el modelo\n",
        "modelo = lr.fit(df)\n",
        "\n",
        "# Predecir los niveles de riesgo\n",
        "predicciones = modelo.transform(df)\n",
        "\n",
        "# Mostrar los resultados\n",
        "predicciones.select(\"features\", \"nivel_riesgo\", \"prediction\").show()\n",
        "\n",
        "# Cerrar sesión de Spark\n",
        "spark.stop()\n",
        "\n",
        "\n",
        "\n"
      ],
      "metadata": {
        "id": "YL20EPZfUWIY"
      },
      "execution_count": null,
      "outputs": []
    },
    {
      "cell_type": "code",
      "source": [
        "from pyspark.sql import SparkSession\n",
        "from pyspark.ml.feature import VectorAssembler\n",
        "from pyspark.ml.classification import RandomForestClassifier\n",
        "from pyspark.ml.evaluation import MulticlassClassificationEvaluator\n",
        "\n",
        "# Iniciar sesión de Spark\n",
        "spark = SparkSession.builder.appName(\"ImportanciaVariables\").getOrCreate()\n",
        "\n",
        "# Cargar datos\n",
        "df = spark.read.csv(\"ruta/a/tu/dataset.csv\", header=True, inferSchema=True)\n",
        "\n",
        "# Lista de variables\n",
        "variables = ['variable1', 'variable2', 'variable3']\n",
        "\n",
        "# VectorAssembler para combinar las variables en una sola columna de características\n",
        "assembler = VectorAssembler(inputCols=variables, outputCol=\"features\")\n",
        "df = assembler.transform(df)\n",
        "\n",
        "# Definir el modelo de Random Forest\n",
        "rf = RandomForestClassifier(featuresCol=\"features\", labelCol=\"nivel_riesgo\")\n",
        "\n",
        "# Ajustar el modelo\n",
        "modelo = rf.fit(df)\n",
        "\n",
        "# Obtener la importancia de las características\n",
        "importancias = modelo.featureImportances\n",
        "\n",
        "# Mostrar la importancia de cada variable\n",
        "print(\"Importancia de las variables:\")\n",
        "for i in range(len(variables)):\n",
        "    print(f\"{variables[i]}: {importancias[i]}\")\n",
        "\n",
        "# Cerrar sesión de Spark\n",
        "spark.stop()\n"
      ],
      "metadata": {
        "id": "3TR3s44YU8dt"
      },
      "execution_count": null,
      "outputs": []
    },
    {
      "cell_type": "code",
      "source": [
        "from pyspark.sql import SparkSession\n",
        "from pyspark.ml import Pipeline\n",
        "from pyspark.ml.feature import VectorAssembler\n",
        "from pyspark.ml.classification import LogisticRegression\n",
        "from pyspark.ml.evaluation import BinaryClassificationEvaluator, MulticlassClassificationEvaluator\n",
        "from pyspark.sql.functions import col\n",
        "\n",
        "# Iniciar sesión de Spark\n",
        "spark = SparkSession.builder.appName(\"RegresionLogisticaMultinomial\").getOrCreate()\n",
        "\n",
        "# Cargar datos\n",
        "df = spark.read.csv(\"ruta/a/tu/dataset.csv\", header=True, inferSchema=True)\n",
        "\n",
        "# Lista de variables predictoras\n",
        "variables = ['variable1', 'variable2', 'variable3', ...]\n",
        "\n",
        "# Preparar los datos para el modelo\n",
        "assembler = VectorAssembler(inputCols=variables, outputCol=\"features\")\n",
        "df = assembler.transform(df)\n",
        "\n",
        "# Definir el modelo de regresión logística multinomial\n",
        "lr = LogisticRegression(featuresCol=\"features\", labelCol=\"nivel_riesgo\", family=\"multinomial\")\n",
        "\n",
        "# Ajustar el modelo\n",
        "modelo = lr.fit(df)\n",
        "\n",
        "# Coeficientes y Interceptos\n",
        "print(\"Coeficientes:\")\n",
        "print(modelo.coefficientMatrix)\n",
        "print(\"Interceptos:\")\n",
        "print(modelo.interceptVector)\n",
        "\n",
        "# Evaluar el modelo\n",
        "evaluator = MulticlassClassificationEvaluator(labelCol=\"nivel_riesgo\", predictionCol=\"prediction\")\n",
        "\n",
        "# Precisión del modelo\n",
        "accuracy = evaluator.evaluate(modelo.transform(df), {evaluator.metricName: \"accuracy\"})\n",
        "print(\"Precisión del modelo:\", accuracy)\n",
        "\n",
        "# Log-Likelihood del modelo ajustado\n",
        "llh = modelo.summary.objectiveHistory[-1]\n",
        "print(\"Log-Likelihood del modelo ajustado:\", llh)\n",
        "\n",
        "# Log-Likelihood del modelo nulo\n",
        "# Para el modelo nulo, se puede calcular manualmente o ajustar un modelo sin características\n",
        "# Aquí se muestra cómo calcularlo manualmente\n",
        "total_count = df.count()\n",
        "positive_count = df.filter(col(\"nivel_riesgo\") == 1).count()\n",
        "negative_count = df.filter(col(\"nivel_riesgo\") == 0).count()\n",
        "llh_nulo = positive_count * math.log(positive_count/total_count) + negative_count * math.log(negative_count/total_count)\n",
        "print(\"Log-Likelihood del modelo nulo:\", llh_nulo)\n",
        "\n",
        "# Pseudo R2 de McFadden\n",
        "pseudo_r2_mcfadden = 1 - (llh/llh_nulo)\n",
        "print(\"Pseudo R2 de McFadden:\", pseudo_r2_mcfadden)\n",
        "\n",
        "# Cerrar sesión de Spark\n",
        "spark.stop()\n"
      ],
      "metadata": {
        "id": "5H2fn3yHzynl"
      },
      "execution_count": null,
      "outputs": []
    }
  ]
}