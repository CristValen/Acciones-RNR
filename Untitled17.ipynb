{
  "nbformat": 4,
  "nbformat_minor": 0,
  "metadata": {
    "colab": {
      "provenance": [],
      "authorship_tag": "ABX9TyPMF7yjapDSbDaOVUca/tuD",
      "include_colab_link": true
    },
    "kernelspec": {
      "name": "python3",
      "display_name": "Python 3"
    },
    "language_info": {
      "name": "python"
    }
  },
  "cells": [
    {
      "cell_type": "markdown",
      "metadata": {
        "id": "view-in-github",
        "colab_type": "text"
      },
      "source": [
        "<a href=\"https://colab.research.google.com/github/CristValen/Acciones-RNR/blob/main/Untitled17.ipynb\" target=\"_parent\"><img src=\"https://colab.research.google.com/assets/colab-badge.svg\" alt=\"Open In Colab\"/></a>"
      ]
    },
    {
      "cell_type": "code",
      "execution_count": null,
      "metadata": {
        "colab": {
          "base_uri": "https://localhost:8080/",
          "height": 331
        },
        "id": "Gyye2W7uT4Dx",
        "outputId": "3c6f3507-865f-41d7-cf13-81bc3f2f26fb"
      },
      "outputs": [
        {
          "output_type": "error",
          "ename": "ModuleNotFoundError",
          "evalue": "No module named 'pyspark'",
          "traceback": [
            "\u001b[0;31m---------------------------------------------------------------------------\u001b[0m",
            "\u001b[0;31mModuleNotFoundError\u001b[0m                       Traceback (most recent call last)",
            "\u001b[0;32m<ipython-input-1-f271f898c0f8>\u001b[0m in \u001b[0;36m<cell line: 1>\u001b[0;34m()\u001b[0m\n\u001b[0;32m----> 1\u001b[0;31m \u001b[0;32mfrom\u001b[0m \u001b[0mpyspark\u001b[0m\u001b[0;34m.\u001b[0m\u001b[0msql\u001b[0m \u001b[0;32mimport\u001b[0m \u001b[0mSparkSession\u001b[0m\u001b[0;34m\u001b[0m\u001b[0;34m\u001b[0m\u001b[0m\n\u001b[0m\u001b[1;32m      2\u001b[0m \u001b[0mspark\u001b[0m \u001b[0;34m=\u001b[0m \u001b[0mSparkSession\u001b[0m\u001b[0;34m.\u001b[0m\u001b[0mbuilder\u001b[0m\u001b[0;34m.\u001b[0m\u001b[0mmaster\u001b[0m\u001b[0;34m(\u001b[0m\u001b[0;34m\"local[*]\"\u001b[0m\u001b[0;34m)\u001b[0m\u001b[0;34m.\u001b[0m\u001b[0mgetOrCreate\u001b[0m\u001b[0;34m(\u001b[0m\u001b[0;34m)\u001b[0m\u001b[0;34m\u001b[0m\u001b[0;34m\u001b[0m\u001b[0m\n",
            "\u001b[0;31mModuleNotFoundError\u001b[0m: No module named 'pyspark'",
            "",
            "\u001b[0;31m---------------------------------------------------------------------------\u001b[0;32m\nNOTE: If your import is failing due to a missing package, you can\nmanually install dependencies using either !pip or !apt.\n\nTo view examples of installing some common dependencies, click the\n\"Open Examples\" button below.\n\u001b[0;31m---------------------------------------------------------------------------\u001b[0m\n"
          ],
          "errorDetails": {
            "actions": [
              {
                "action": "open_url",
                "actionText": "Open Examples",
                "url": "/notebooks/snippets/importing_libraries.ipynb"
              }
            ]
          }
        }
      ],
      "source": [
        "from pyspark.ml.stat import Correlation\n",
        "from pyspark.ml.feature import VectorAssembler\n",
        "from pyspark.sql.functions import col\n",
        "\n",
        "# Supongamos que tienes un DataFrame de Spark 'df' con las columnas 'col1', 'col2', 'col3'\n",
        "columnas = ['col1', 'col2', 'col3']\n",
        "\n",
        "# Combina las columnas en una sola columna de vectores\n",
        "assembler = VectorAssembler(inputCols=columnas, outputCol=\"combined\")\n",
        "df_vector = assembler.transform(df).select(\"combined\")\n",
        "\n",
        "# Calcula la matriz de correlación de Spearman\n",
        "matrix = Correlation.corr(df_vector, \"combined\", method=\"spearman\").collect()[0][0]\n",
        "\n",
        "# Recorre la matriz de correlación y elimina las columnas con correlación >= 0.4\n",
        "for i in range(len(columnas)):\n",
        "    for j in range(i+1, len(columnas)):\n",
        "        if abs(matrix[i, j]) >= 0.4:\n",
        "            df = df.drop(columnas[j])\n",
        "\n",
        "# Ahora 'df' es tu DataFrame con las columnas correlacionadas eliminadas\n"
      ]
    },
    {
      "cell_type": "code",
      "source": [
        "from pyspark.sql import SparkSession\n",
        "\n",
        "# Supongamos que tienes un DataFrame de Spark 'df' con las columnas 'col1', 'col2', 'col3'\n",
        "columnas = df.columns\n",
        "\n",
        "# Crea un diccionario para almacenar los valores distintos de cada columna\n",
        "valores_distintos = {}\n",
        "\n",
        "# Recorre cada columna y obtén los valores distintos\n",
        "for col in columnas:\n",
        "    valores_distintos[col] = df.select(col).distinct().rdd.flatMap(lambda x: x).collect()\n",
        "\n",
        "# Ahora 'valores_distintos' es un diccionario donde las claves son los nombres de las columnas\n",
        "# y los valores son listas con los valores distintos de cada columna\n"
      ],
      "metadata": {
        "id": "YwvJMDAcc0cB"
      },
      "execution_count": null,
      "outputs": []
    },
    {
      "cell_type": "code",
      "source": [
        "from pyspark.ml import PipelineModel\n",
        "\n",
        "# Cargar el modelo entrenado (reemplaza 'path/to/model' con la ruta de tu modelo)\n",
        "pipelineModel = PipelineModel.load('path/to/model')\n",
        "\n",
        "# Acceder al modelo de regresión logística dentro del PipelineModel\n",
        "# Asumiendo que es el último stage del pipeline\n",
        "lrModel = pipelineModel.stages[-1]\n",
        "\n",
        "# Extraer los coeficientes y convertirlos a una lista\n",
        "coefficients = lrModel.coefficients.toArray().tolist()\n",
        "\n",
        "# Obtener los nombres de las variables del VectorAssembler\n",
        "# Asumiendo que VectorAssembler es el penúltimo stage del pipeline\n",
        "vectorAssembler = pipelineModel.stages[-2]\n",
        "input_columns = vectorAssembler.getInputCols()\n",
        "\n",
        "# Asociar cada coeficiente con su respectivo nombre de variable\n",
        "coefficients_and_names = list(zip(input_columns, coefficients))\n",
        "\n",
        "# Imprimir los nombres de las variables y sus coeficientes\n",
        "for name, coeff in coefficients_and_names:\n",
        "    print(f\"{name}: {coeff}\")\n",
        "\n"
      ],
      "metadata": {
        "id": "YL20EPZfUWIY"
      },
      "execution_count": null,
      "outputs": []
    }
  ]
}