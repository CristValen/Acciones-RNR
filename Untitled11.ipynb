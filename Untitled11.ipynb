{
  "nbformat": 4,
  "nbformat_minor": 0,
  "metadata": {
    "colab": {
      "provenance": [],
      "authorship_tag": "ABX9TyMRsdaR6D7P+bAR9mEe0Ijv",
      "include_colab_link": true
    },
    "kernelspec": {
      "name": "python3",
      "display_name": "Python 3"
    },
    "language_info": {
      "name": "python"
    }
  },
  "cells": [
    {
      "cell_type": "markdown",
      "metadata": {
        "id": "view-in-github",
        "colab_type": "text"
      },
      "source": [
        "<a href=\"https://colab.research.google.com/github/CristValen/Acciones-RNR/blob/main/Untitled11.ipynb\" target=\"_parent\"><img src=\"https://colab.research.google.com/assets/colab-badge.svg\" alt=\"Open In Colab\"/></a>"
      ]
    },
    {
      "cell_type": "code",
      "execution_count": null,
      "metadata": {
        "id": "AMJj8KFSW8rb"
      },
      "outputs": [],
      "source": [
        "\n",
        "from sklearn.metrics import roc_curve\n",
        "from sklearn.ensemble import GradientBoostingClassifier\n",
        "import numpy as np\n",
        "import pandas as pd\n",
        "\n",
        "# Tus funciones para calcular Gini y KS\n",
        "def calc_gini(y_verdadero, y_prob):\n",
        "    fpr, tpr, _ = roc_curve(y_verdadero, y_prob)\n",
        "    roc_auc = auc(fpr, tpr)\n",
        "    gini = 2*roc_auc - 1\n",
        "    return gini\n",
        "\n",
        "def calc_ks(data, y_true, y_prob):\n",
        "    data = pd.DataFrame({\"probability\": y_prob, \"true_value\": y_true})\n",
        "    data['bucket'] = pd.qcut(data.probability.rank(method='first'), 10)\n",
        "    grouped = data.groupby('bucket', as_index=False)\n",
        "    kstable = pd.DataFrame()\n",
        "    kstable['min_prob'] = grouped.min().probability\n",
        "    kstable['max_prob'] = grouped.max().probability\n",
        "    kstable['bads'] = grouped.sum().true_value\n",
        "    kstable['total'] = grouped.count().true_value\n",
        "    kstable['bad_cum_rate'] = (kstable.bads / data.true_value.sum()).cumsum()\n",
        "    kstable['total_cum_rate'] = (kstable.total / data.shape[0]).cumsum()\n",
        "    kstable['ks'] = np.abs(kstable['bad_cum_rate'] - kstable['total_cum_rate'])\n",
        "    return kstable['ks'].max()\n",
        "\n",
        "# Asumiendo que 'clf' es tu modelo entrenado\n",
        "# y 'X_test', 'y_test' son tus datos de prueba\n",
        "\n",
        "# Obtén las predicciones de probabilidad para cada clase\n",
        "y_pred_proba = clf.predict_proba(X_test)\n",
        "\n",
        "# Calcula las métricas para cada clase\n",
        "for i in range(y_pred_proba.shape[1]):\n",
        "    # Calcula la métrica ROC AUC\n",
        "    roc_auc = roc_auc_score(y_test == i, y_pred_proba[:, i])\n",
        "\n",
        "    # Calcula la métrica Gini usando tu función\n",
        "    gini = calc_gini(y_test == i, y_pred_proba[:, i])\n",
        "\n",
        "    # Calcula la métrica KS usando tu función\n",
        "    data = pd.DataFrame({\"probability\": y_pred_proba[:, i], \"true_value\": y_test == i})\n",
        "    ks = calc_ks(data)\n",
        "\n",
        "    print(f\"Clase {i} - ROC AUC: {roc_auc:.2f}, Gini: {gini:.2f}, KS: {ks:.2f}\")"
      ]
    }
  ]
}