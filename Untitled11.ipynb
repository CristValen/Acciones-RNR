{
  "nbformat": 4,
  "nbformat_minor": 0,
  "metadata": {
    "colab": {
      "provenance": [],
      "authorship_tag": "ABX9TyM1CjhvqQyJuJTZVsDAc3g6",
      "include_colab_link": true
    },
    "kernelspec": {
      "name": "python3",
      "display_name": "Python 3"
    },
    "language_info": {
      "name": "python"
    }
  },
  "cells": [
    {
      "cell_type": "markdown",
      "metadata": {
        "id": "view-in-github",
        "colab_type": "text"
      },
      "source": [
        "<a href=\"https://colab.research.google.com/github/CristValen/Acciones-RNR/blob/main/Untitled11.ipynb\" target=\"_parent\"><img src=\"https://colab.research.google.com/assets/colab-badge.svg\" alt=\"Open In Colab\"/></a>"
      ]
    },
    {
      "cell_type": "code",
      "execution_count": 1,
      "metadata": {
        "id": "AMJj8KFSW8rb",
        "colab": {
          "base_uri": "https://localhost:8080/",
          "height": 350
        },
        "outputId": "0f543dcc-75af-439d-96e0-3af5b64bbdc7"
      },
      "outputs": [
        {
          "output_type": "error",
          "ename": "NameError",
          "evalue": "ignored",
          "traceback": [
            "\u001b[0;31m---------------------------------------------------------------------------\u001b[0m",
            "\u001b[0;31mNameError\u001b[0m                                 Traceback (most recent call last)",
            "\u001b[0;32m<ipython-input-1-b424dc865398>\u001b[0m in \u001b[0;36m<cell line: 31>\u001b[0;34m()\u001b[0m\n\u001b[1;32m     29\u001b[0m \u001b[0;34m\u001b[0m\u001b[0m\n\u001b[1;32m     30\u001b[0m \u001b[0;31m# Obtén las predicciones de probabilidad para cada clase\u001b[0m\u001b[0;34m\u001b[0m\u001b[0;34m\u001b[0m\u001b[0m\n\u001b[0;32m---> 31\u001b[0;31m \u001b[0my_pred_proba\u001b[0m \u001b[0;34m=\u001b[0m \u001b[0mclf\u001b[0m\u001b[0;34m.\u001b[0m\u001b[0mpredict_proba\u001b[0m\u001b[0;34m(\u001b[0m\u001b[0mX_test\u001b[0m\u001b[0;34m)\u001b[0m\u001b[0;34m\u001b[0m\u001b[0;34m\u001b[0m\u001b[0m\n\u001b[0m\u001b[1;32m     32\u001b[0m \u001b[0;34m\u001b[0m\u001b[0m\n\u001b[1;32m     33\u001b[0m \u001b[0;31m# Calcula las métricas para cada clase\u001b[0m\u001b[0;34m\u001b[0m\u001b[0;34m\u001b[0m\u001b[0m\n",
            "\u001b[0;31mNameError\u001b[0m: name 'clf' is not defined"
          ]
        }
      ],
      "source": [
        "\n",
        "from sklearn.metrics import roc_curve\n",
        "from sklearn.ensemble import GradientBoostingClassifier\n",
        "import numpy as np\n",
        "import pandas as pd\n",
        "\n",
        "# Tus funciones para calcular Gini y KS\n",
        "def calc_gini(y_verdadero, y_prob):\n",
        "    fpr, tpr, _ = roc_curve(y_verdadero, y_prob)\n",
        "    roc_auc = auc(fpr, tpr)\n",
        "    gini = 2*roc_auc - 1\n",
        "    return gini\n",
        "\n",
        "def calc_ks(data, y_true, y_prob):\n",
        "    data = pd.DataFrame({\"probability\": y_prob, \"true_value\": y_true})\n",
        "    data['bucket'] = pd.qcut(data.probability.rank(method='first'), 10)\n",
        "    grouped = data.groupby('bucket', as_index=False)\n",
        "    kstable = pd.DataFrame()\n",
        "    kstable['min_prob'] = grouped.min().probability\n",
        "    kstable['max_prob'] = grouped.max().probability\n",
        "    kstable['bads'] = grouped.sum().true_value\n",
        "    kstable['total'] = grouped.count().true_value\n",
        "    kstable['bad_cum_rate'] = (kstable.bads / data.true_value.sum()).cumsum()\n",
        "    kstable['total_cum_rate'] = (kstable.total / data.shape[0]).cumsum()\n",
        "    kstable['ks'] = np.abs(kstable['bad_cum_rate'] - kstable['total_cum_rate'])\n",
        "    return kstable['ks'].max()\n",
        "\n",
        "# Asumiendo que 'clf' es tu modelo entrenado\n",
        "# y 'X_test', 'y_test' son tus datos de prueba\n",
        "\n",
        "# Obtén las predicciones de probabilidad para cada clase\n",
        "y_pred_proba = clf.predict_proba(X_test)\n",
        "\n",
        "# Calcula las métricas para cada clase\n",
        "for i in range(y_pred_proba.shape[1]):\n",
        "    # Calcula la métrica ROC AUC\n",
        "    roc_auc = roc_auc_score(y_test == i, y_pred_proba[:, i])\n",
        "\n",
        "    # Calcula la métrica Gini usando tu función\n",
        "    gini = calc_gini(y_test == i, y_pred_proba[:, i])\n",
        "\n",
        "    # Calcula la métrica KS usando tu función\n",
        "    data = pd.DataFrame({\"probability\": y_pred_proba[:, i], \"true_value\": y_test == i})\n",
        "    ks = calc_ks(data)\n",
        "\n",
        "    print(f\"Clase {i} - ROC AUC: {roc_auc:.2f}, Gini: {gini:.2f}, KS: {ks:.2f}\")"
      ]
    },
    {
      "cell_type": "code",
      "source": [
        "\n",
        "from pyspark.sql import SparkSession\n",
        "from pyspark.sql.functions import col, floor\n",
        "\n",
        "spark = SparkSession.builder.getOrCreate()\n",
        "\n",
        "df = spark.table(\"budeu.gslconsol\")\n",
        "\n",
        "result = df.filter(\n",
        "    (col(\"bgsb_tipo_deuda\") == 'd') &\n",
        "    (col(\"bgsb_modelo_prov_bbpp\") == 130) &\n",
        "    (col(\"bgsb_ind\") == 0) &\n",
        "    (col(\"bgsb_obj\") == 0) &\n",
        "    (col(\"bgsb_subj\") == 0)\n",
        ").select(\n",
        "    floor(col(\"bgsb_fecha_pro\") / 100).alias(\"fec\"),\n",
        "    col(\"bgsb_nrt\").alias(\"nrt\"),\n",
        "    col(\"bgsb_modelo_prov_bbpp\").alias(\"modelo\")\n",
        ").distinct()\n",
        "\n",
        "result.show()"
      ],
      "metadata": {
        "id": "LOv_vfd-bgh8"
      },
      "execution_count": null,
      "outputs": []
    }
  ]
}