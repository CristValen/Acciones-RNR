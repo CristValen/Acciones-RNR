{
  "nbformat": 4,
  "nbformat_minor": 0,
  "metadata": {
    "colab": {
      "provenance": [],
      "authorship_tag": "ABX9TyOKMceeJcGOoRN8a2mWsJ39",
      "include_colab_link": true
    },
    "kernelspec": {
      "name": "python3",
      "display_name": "Python 3"
    },
    "language_info": {
      "name": "python"
    }
  },
  "cells": [
    {
      "cell_type": "markdown",
      "metadata": {
        "id": "view-in-github",
        "colab_type": "text"
      },
      "source": [
        "<a href=\"https://colab.research.google.com/github/CristValen/Acciones-RNR/blob/main/Untitled15.ipynb\" target=\"_parent\"><img src=\"https://colab.research.google.com/assets/colab-badge.svg\" alt=\"Open In Colab\"/></a>"
      ]
    },
    {
      "cell_type": "code",
      "execution_count": null,
      "metadata": {
        "colab": {
          "base_uri": "https://localhost:8080/",
          "height": 175
        },
        "id": "G0jB3ijAszty",
        "outputId": "8fbac770-cdee-4b72-ca69-da3d2e42f7d8"
      },
      "outputs": [
        {
          "output_type": "error",
          "ename": "NameError",
          "evalue": "name 'install' is not defined",
          "traceback": [
            "\u001b[0;31m---------------------------------------------------------------------------\u001b[0m",
            "\u001b[0;31mNameError\u001b[0m                                 Traceback (most recent call last)",
            "\u001b[0;32m<ipython-input-1-ae9979fd4d2f>\u001b[0m in \u001b[0;36m<cell line: 1>\u001b[0;34m()\u001b[0m\n\u001b[0;32m----> 1\u001b[0;31m \u001b[0minstall\u001b[0m\u001b[0;34m.\u001b[0m\u001b[0mpackages\u001b[0m\u001b[0;34m(\u001b[0m\u001b[0;34m\"tidyverse\"\u001b[0m\u001b[0;34m)\u001b[0m\u001b[0;34m\u001b[0m\u001b[0;34m\u001b[0m\u001b[0m\n\u001b[0m",
            "\u001b[0;31mNameError\u001b[0m: name 'install' is not defined"
          ]
        }
      ],
      "source": [
        "from pyspark.sql import SparkSession\n",
        "from pyspark.sql.functions import trim, substring_index\n",
        "\n",
        "# Crear una sesión de Spark\n",
        "spark = SparkSession.builder.getOrCreate()\n",
        "\n",
        "# Supongamos que tienes dos dataframes, df1 y df2, que corresponden a 'tabla1' y 'tabla2'\n",
        "df1 = spark.table(\"tabla1\")\n",
        "df2 = spark.table(\"tabla2\")\n",
        "\n",
        "# Realizar el left join\n",
        "df_joined = df1.alias('b').join(df2.alias('i'),\n",
        "                                (trim(df1['pesecper']) == trim(df2['gen_clave'])) &\n",
        "                                (trim(df2['gen_tabla']) == '0230'),\n",
        "                                how='left')\n",
        "\n",
        "# Agregar la columna 'composicion'\n",
        "df_joined = df_joined.withColumn('composicion', substring_index(df2['gen_datos1'], '', 1))\n"
      ]
    }
  ]
}