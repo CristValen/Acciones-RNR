{
  "nbformat": 4,
  "nbformat_minor": 0,
  "metadata": {
    "colab": {
      "provenance": [],
      "authorship_tag": "ABX9TyNMA0IA46s6WL/PkMTBQOz+"
    },
    "kernelspec": {
      "name": "python3",
      "display_name": "Python 3"
    },
    "language_info": {
      "name": "python"
    }
  },
  "cells": [
    {
      "cell_type": "code",
      "execution_count": null,
      "metadata": {
        "id": "Sah2dOdtaNYZ"
      },
      "outputs": [],
      "source": [
        "df_comparado = df_enero.alias(\"jan\").join(\n",
        "    df_febrero.alias(\"feb\"), on=\"rut\", how=\"inner\"\n",
        ").select(\n",
        "    col(\"rut\"),\n",
        "    col(\"jan.riesgo_bco\").alias(\"riesgo_enero\"),\n",
        "    col(\"feb.riesgo_bco\").alias(\"riesgo_febrero\")\n",
        ")\n",
        "\n",
        "# Identificar clientes con cambio de nivel de riesgo\n",
        "df_comparado = df_comparado.withColumn(\n",
        "    \"cambio_riesgo\",\n",
        "    when(col(\"riesgo_enero\") != col(\"riesgo_febrero\"), \"Sí\")\n",
        "    .otherwise(\"No\")\n",
        ")\n",
        "\n",
        "variables_indirectas = [\"var1\", \"var2\", \"var3\", \"var4\", \"var5\"]  # Ajustar nombres de columnas\n",
        "\n",
        "for var in variables_indirectas:\n",
        "    df_comparado = df_comparado.withColumn(f\"diferencia_{var}\", col(f\"feb.{var}\") - col(f\"jan.{var}\"))\n",
        "\n",
        "df_comparado.show()"
      ]
    }
  ]
}