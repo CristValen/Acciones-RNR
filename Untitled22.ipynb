{
  "nbformat": 4,
  "nbformat_minor": 0,
  "metadata": {
    "colab": {
      "provenance": [],
      "authorship_tag": "ABX9TyPwRGLD4J6lDkBnICnbkAyZ"
    },
    "kernelspec": {
      "name": "python3",
      "display_name": "Python 3"
    },
    "language_info": {
      "name": "python"
    }
  },
  "cells": [
    {
      "cell_type": "code",
      "execution_count": null,
      "metadata": {
        "id": "E_w3bkCwMg6d"
      },
      "outputs": [],
      "source": [
        "\n",
        "import pandas as pd\n",
        "import plotly.express as px\n",
        "import plotly.io as pio\n",
        "\n",
        "# Crear un DataFrame de ejemplo\n",
        "data = {\n",
        "    \"Nacionalidad\": [\"Chile\", \"Argentina\", \"Perú\", \"Chile\", \"Argentina\", \"Perú\"],\n",
        "    \"Domicilio\": [\"Santiago\", \"Buenos Aires\", \"Lima\", \"Valparaíso\", \"Córdoba\", \"Cusco\"],\n",
        "    \"Riesgo\": [\"Alto\", \"Medio\", \"Bajo\", \"Alto\", \"Medio\", \"Bajo\"],\n",
        "    \"penumdoc\": [\"12345678901\", \"98765432109\", \"12312312345\", \"23456789012\", \"87654321098\", \"32132132154\"]\n",
        "}\n",
        "df = pd.DataFrame(data)\n",
        "\n",
        "# Filtrar por nivel de riesgo\n",
        "riesgo_seleccionado = \"Alto\"  # Puedes cambiar esto dinámicamente según tus necesidades\n",
        "df_filtrado = df[df[\"Riesgo\"] == riesgo_seleccionado]\n",
        "\n",
        "# Crear un gráfico interactivo con Plotly\n",
        "fig = px.bar(df_filtrado, x=\"Nacionalidad\", y=\"penumdoc\", color=\"Domicilio\", title=f\"Clientes con riesgo {riesgo_seleccionado}\")\n",
        "\n",
        "# Guardar el gráfico en un archivo HTML\n",
        "pio.write_html(fig, file=\"panel_interactivo.html\", auto_open=True)"
      ]
    },
    {
      "cell_type": "code",
      "source": [
        "\n",
        "python app.py  pip install dash pandas plotly"
      ],
      "metadata": {
        "id": "alrAcpGZMlqD"
      },
      "execution_count": null,
      "outputs": []
    },
    {
      "cell_type": "code",
      "source": [
        "\n",
        "import dash\n",
        "from dash import dcc, html\n",
        "from dash.dependencies import Input, Output\n",
        "import pandas as pd\n",
        "import plotly.express as px\n",
        "\n",
        "# Crear un DataFrame de ejemplo\n",
        "data = {\n",
        "    \"Nacionalidad\": [\"Chile\", \"Argentina\", \"Perú\", \"Chile\", \"Argentina\", \"Perú\"],\n",
        "    \"Domicilio\": [\"Santiago\", \"Buenos Aires\", \"Lima\", \"Valparaíso\", \"Córdoba\", \"Cusco\"],\n",
        "    \"Riesgo\": [\"Alto\", \"Medio\", \"Bajo\", \"Alto\", \"Medio\", \"Bajo\"],\n",
        "    \"penumdoc\": [\"12345678901\", \"98765432109\", \"12312312345\", \"23456789012\", \"87654321098\", \"32132132154\"]\n",
        "}\n",
        "df = pd.DataFrame(data)\n",
        "\n",
        "# Inicializar la aplicación Dash\n",
        "app = dash.Dash(__name__)\n",
        "\n",
        "# Layout de la aplicación\n",
        "app.layout = html.Div([\n",
        "    html.H1(\"Panel Interactivo de Riesgo Bancario\"),\n",
        "    dcc.Dropdown(\n",
        "        id='riesgo-dropdown',\n",
        "        options=[{'label': riesgo, 'value': riesgo} for riesgo in df['Riesgo'].unique()],\n",
        "        value='Alto'\n",
        "    ),\n",
        "    dcc.Graph(id='grafico-riesgo')\n",
        "])\n",
        "\n",
        "# Callback para actualizar el gráfico basado en el riesgo seleccionado\n",
        "@app.callback(\n",
        "    Output('grafico-riesgo', 'figure'),\n",
        "    [Input('riesgo-dropdown', 'value')]\n",
        ")\n",
        "def actualizar_grafico(riesgo_seleccionado):\n",
        "    df_filtrado = df[df['Riesgo'] == riesgo_seleccionado]\n",
        "    fig = px.bar(df_filtrado, x='Nacionalidad', y='penumdoc', color='Domicilio', title=f'Clientes con riesgo {riesgo_seleccionado}')\n",
        "    return fig\n",
        "\n",
        "# Ejecutar la aplicación\n",
        "if __name__ == '__main__':\n",
        "    app.run_server(debug=True)\n",
        ","
      ],
      "metadata": {
        "id": "KRSX117UPYOX"
      },
      "execution_count": null,
      "outputs": []
    }
  ]
}