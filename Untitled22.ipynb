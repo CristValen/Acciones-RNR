{
  "nbformat": 4,
  "nbformat_minor": 0,
  "metadata": {
    "colab": {
      "provenance": [],
      "authorship_tag": "ABX9TyP+c1E96dtpzSgy8iub69rt",
      "include_colab_link": true
    },
    "kernelspec": {
      "name": "python3",
      "display_name": "Python 3"
    },
    "language_info": {
      "name": "python"
    }
  },
  "cells": [
    {
      "cell_type": "markdown",
      "metadata": {
        "id": "view-in-github",
        "colab_type": "text"
      },
      "source": [
        "<a href=\"https://colab.research.google.com/github/CristValen/Acciones-RNR/blob/main/Untitled22.ipynb\" target=\"_parent\"><img src=\"https://colab.research.google.com/assets/colab-badge.svg\" alt=\"Open In Colab\"/></a>"
      ]
    },
    {
      "cell_type": "code",
      "execution_count": null,
      "metadata": {
        "id": "E_w3bkCwMg6d"
      },
      "outputs": [],
      "source": [
        "\n",
        "import pandas as pd\n",
        "import plotly.express as px\n",
        "import plotly.io as pio\n",
        "\n",
        "# Crear un DataFrame de ejemplo\n",
        "data = {\n",
        "    \"Nacionalidad\": [\"Chile\", \"Argentina\", \"Perú\", \"Chile\", \"Argentina\", \"Perú\"],\n",
        "    \"Domicilio\": [\"Santiago\", \"Buenos Aires\", \"Lima\", \"Valparaíso\", \"Córdoba\", \"Cusco\"],\n",
        "    \"Riesgo\": [\"Alto\", \"Medio\", \"Bajo\", \"Alto\", \"Medio\", \"Bajo\"],\n",
        "    \"penumdoc\": [\"12345678901\", \"98765432109\", \"12312312345\", \"23456789012\", \"87654321098\", \"32132132154\"]\n",
        "}\n",
        "df = pd.DataFrame(data)\n",
        "\n",
        "# Filtrar por nivel de riesgo\n",
        "riesgo_seleccionado = \"Alto\"  # Puedes cambiar esto dinámicamente según tus necesidades\n",
        "df_filtrado = df[df[\"Riesgo\"] == riesgo_seleccionado]\n",
        "\n",
        "# Crear un gráfico interactivo con Plotly\n",
        "fig = px.bar(df_filtrado, x=\"Nacionalidad\", y=\"penumdoc\", color=\"Domicilio\", title=f\"Clientes con riesgo {riesgo_seleccionado}\")\n",
        "\n",
        "# Guardar el gráfico en un archivo HTML\n",
        "pio.write_html(fig, file=\"panel_interactivo.html\", auto_open=True)"
      ]
    },
    {
      "cell_type": "code",
      "source": [
        "\n",
        "python panel_interactivo.py"
      ],
      "metadata": {
        "id": "alrAcpGZMlqD"
      },
      "execution_count": null,
      "outputs": []
    },
    {
      "cell_type": "code",
      "source": [
        "\n",
        "import streamlit as st\n",
        "import pandas as pd\n",
        "import plotly.express as px\n",
        "\n",
        "# Crear un DataFrame de ejemplo\n",
        "data = {\n",
        "    \"Nacionalidad\": [\"Chile\", \"Argentina\", \"Perú\", \"Chile\", \"Argentina\", \"Perú\"],\n",
        "    \"Domicilio\": [\"Santiago\", \"Buenos Aires\", \"Lima\", \"Valparaíso\", \"Córdoba\", \"Cusco\"],\n",
        "    \"Riesgo\": [\"Alto\", \"Medio\", \"Bajo\", \"Alto\", \"Medio\", \"Bajo\"],\n",
        "    \"penumdoc\": [\"12345678901\", \"98765432109\", \"12312312345\", \"23456789012\", \"87654321098\", \"32132132154\"]\n",
        "}\n",
        "df = pd.DataFrame(data)\n",
        "\n",
        "# Título de la aplicación\n",
        "st.title(\"Panel Interactivo de Riesgo Bancario\")\n",
        "\n",
        "# Filtro por nivel de riesgo\n",
        "riesgo_seleccionado = st.selectbox(\"Selecciona el nivel de riesgo\", df[\"Riesgo\"].unique())\n",
        "\n",
        "# Filtrar el DataFrame por el nivel de riesgo seleccionado\n",
        "df_filtrado = df[df[\"Riesgo\"] == riesgo_seleccionado]\n",
        "\n",
        "# Crear un gráfico interactivo con Plotly\n",
        "fig = px.bar(df_filtrado, x=\"Nacionalidad\", y=\"penumdoc\", color=\"Domicilio\", title=f\"Clientes con riesgo {riesgo_seleccionado}\")\n",
        "\n",
        "# Mostrar el gráfico en Streamlit\n",
        "st.plotly_chart(fig)"
      ],
      "metadata": {
        "id": "dISdiVUwMm7R"
      },
      "execution_count": null,
      "outputs": []
    }
  ]
}