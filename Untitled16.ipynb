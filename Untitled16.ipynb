{
  "nbformat": 4,
  "nbformat_minor": 0,
  "metadata": {
    "colab": {
      "provenance": [],
      "authorship_tag": "ABX9TyPADMHKX4ZMLWFLCyhlj3O+",
      "include_colab_link": true
    },
    "kernelspec": {
      "name": "python3",
      "display_name": "Python 3"
    },
    "language_info": {
      "name": "python"
    }
  },
  "cells": [
    {
      "cell_type": "markdown",
      "metadata": {
        "id": "view-in-github",
        "colab_type": "text"
      },
      "source": [
        "<a href=\"https://colab.research.google.com/github/CristValen/Acciones-RNR/blob/main/Untitled16.ipynb\" target=\"_parent\"><img src=\"https://colab.research.google.com/assets/colab-badge.svg\" alt=\"Open In Colab\"/></a>"
      ]
    },
    {
      "cell_type": "code",
      "execution_count": null,
      "metadata": {
        "id": "fo8nFF8yHkaI"
      },
      "outputs": [],
      "source": [
        "from pyspark.sql import SparkSession\n",
        "from pyspark.sql.functions import split, trim, concat, when, col\n",
        "\n",
        "spark = SparkSession.builder.getOrCreate()\n",
        "\n",
        "\n",
        "from pyspark.sql import SparkSession\n",
        "from pyspark.sql.functions import split, trim, concat, when, col\n",
        "\n",
        "spark = SparkSession.builder.getOrCreate()\n",
        "\n",
        "# Importar y filtrar las tablas\n",
        "df_A = spark.table(\"gcumplimiento.tbl_ssv_base_estudio_efectivo_mes_act_cve\").alias(\"A\")\n",
        "df_B = spark.table(\"bu_per.pedt008\").filter((col(\"pecalpar\") == 'TI') & (col(\"peestrel\") == 'A') & (col(\"peordpar\") == 1)).alias(\"B\")\n",
        "df_C = spark.table(\"bu_per.pedt001\").alias(\"C\")\n",
        "df_h = spark.table(\"bu_tc.tcdtgen\").filter(col(\"gen_tabla\") == '0232').alias(\"h\")\n",
        "df_x4 = spark.table(\"bu_tc.tcdtgen\").filter(col(\"gen_tabla\") == '0315').alias(\"x4\")\n",
        "df_x1 = spark.table(\"bu_tc.tcdtgen\").filter(col(\"gen_tabla\") == '0304').alias(\"x1\")\n",
        "\n",
        "# Unir las tablas\n",
        "df = df_A.join(df_B, trim(col(\"A.cod_cuenta\")) == trim(col(\"B.PENUMCON\")), \"inner\") \\\n",
        "    .join(df_C, col(\"C.penumper\") == col(\"B.PENUMPER\"), \"inner\") \\\n",
        "    .join(df_h, trim(col(\"C.pesucadm\").substr(1, 3)) == trim(col(\"h.gen_CLAVE\")), \"left\") \\\n",
        "    .join(df_x4, trim(col(\"C.PEACTRIU\")) == trim(col(\"x4.gen_CLAVE\")), \"left\") \\\n",
        "    .join(df_x1, trim(col(\"C.PECODACT\")) == trim(col(\"x1.gen_CLAVE\")), \"left\")\n",
        "\n",
        "# Agregar columnas y agrupar\n",
        "df = df.withColumn(\"NOMBRE_COMPLETO\", concat(trim(col(\"C.PENOMPER\")), ' ', trim(col(\"C.pepriape\")), ' ', trim(col(\"C.PESEGAPE\")))) \\\n",
        "    .withColumn(\"TIPO_CUENTA\", when(col(\"PECODPRO\") == '00', 'CUENTA CORRIENTE M/L') \\\n",
        "        .when(col(\"PECODPRO\") == '17', 'CHEQ. ELECTRONICA') \\\n",
        "        .when(col(\"PECODPRO\") == '11', 'CUENTA VISTA') \\\n",
        "        .when(col(\"PECODPRO\") == '51', 'CUENTA CORRIENTE M/X') \\\n",
        "        .when(col(\"PECODPRO\") == '70', 'AHORRO VISTA BANCO') \\\n",
        "        .otherwise('OTRO PRODUCTO REVISAR')) \\\n",
        "    .groupBy(\"cod_cuenta\", \"PECODPRO\", \"B.PENUMPER\", \"C.PENUMDOC\", \"NOMBRE_COMPLETO\", \"C.PEFECING\", \"petipper\", \"C.peconper\", split(col(\"h.GEN_DATOS\"), \"  \")[0], split(col(\"x4.GEN_DATOS\"), \"  \")[0], split(col(\"x1.GEN_DATOS\"), \"  \")[0]) \\\n",
        "    .agg(sum(col(\"MONTO\")).alias(\"MONTO\"), count(\"*\").alias(\"NRO_TRX\"))\n",
        "\n",
        "df.write.saveAsTable(\"cuplimiento_cve\")\n",
        "\n"
      ]
    }
  ]
}