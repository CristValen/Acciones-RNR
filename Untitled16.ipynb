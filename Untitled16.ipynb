{
  "nbformat": 4,
  "nbformat_minor": 0,
  "metadata": {
    "colab": {
      "provenance": [],
      "authorship_tag": "ABX9TyNvu0h4aqg6KjuNuJq1f9Qk",
      "include_colab_link": true
    },
    "kernelspec": {
      "name": "python3",
      "display_name": "Python 3"
    },
    "language_info": {
      "name": "python"
    }
  },
  "cells": [
    {
      "cell_type": "markdown",
      "metadata": {
        "id": "view-in-github",
        "colab_type": "text"
      },
      "source": [
        "<a href=\"https://colab.research.google.com/github/CristValen/Acciones-RNR/blob/main/Untitled16.ipynb\" target=\"_parent\"><img src=\"https://colab.research.google.com/assets/colab-badge.svg\" alt=\"Open In Colab\"/></a>"
      ]
    },
    {
      "cell_type": "code",
      "execution_count": null,
      "metadata": {
        "id": "fo8nFF8yHkaI"
      },
      "outputs": [],
      "source": [
        "from pyspark.sql import SparkSession\n",
        "from pyspark.sql.functions import split, trim, concat, when, col, sum, count\n",
        "\n",
        "spark = SparkSession.builder.getOrCreate()\n",
        "\n",
        "df = spark.table(\"gcumplimiento.tbl_ssv_base_estudio_efectivo_mes_act_cve\")\n",
        "\n",
        "df = df.alias(\"A\").join(spark.table(\"bu_per.pedt008\").alias(\"B\"), trim(col(\"A.cod_cuenta\")) == trim(col(\"B.PENUMCON\")) & (col(\"pecalpar\") == 'TI') & (col(\"peestrel\") == 'A') & (col(\"peordpar\") == 1), \"inner\") \\\n",
        "    .join(spark.table(\"bu_per.pedt001\").alias(\"C\"), col(\"C.penumper\") == col(\"B.PENUMPER\"), \"inner\") \\\n",
        "    .join(spark.table(\"bu_tc.tcdtgen\").alias(\"h\"), trim(col(\"C.pesucadm\").substr(1, 3)) == trim(col(\"h.gen_CLAVE\")) & (trim(col(\"h.gen_tabla\")) == '0232'), \"left\") \\\n",
        "    .join(spark.table(\"bu_tc.tcdtgen\").alias(\"x4\"), trim(col(\"C.PEACTRIU\")) == trim(col(\"x4.gen_CLAVE\")) & (trim(col(\"x4.gen_tabla\")) == '0315'), \"left\") \\\n",
        "    .join(spark.table(\"bu_tc.tcdtgen\").alias(\"x1\"), trim(col(\"C.PECODACT\")) == trim(col(\"x1.gen_CLAVE\")) & (trim(col(\"x1.gen_tabla\")) == '0304'), \"left\")\n",
        "\n",
        "df = df.withColumn(\"NOMBRE_COMPLETO\", concat(trim(col(\"C.PENOMPER\")), ' ', trim(col(\"C.pepriape\")), ' ', trim(col(\"C.PESEGAPE\")))) \\\n",
        "    .withColumn(\"FECHA_INGRESO\", col(\"C.PEFECING\")) \\\n",
        "    .withColumn(\"TIPO_PER\", col(\"petipper\")) \\\n",
        "    .withColumn(\"TIPO_CLIENTE\", col(\"C.peconper\")) \\\n",
        "    .withColumn(\"Sucursal_ADM\", split(col(\"h.GEN_DATOS\"), \"  \")[0]) \\\n",
        "    .withColumn(\"Segmento\", split(col(\"x4.GEN_DATOS\"), \"  \")[0]) \\\n",
        "    .withColumn(\"ACTIVIDAD\", split(col(\"x1.GEN_DATOS\"), \"  \")[0]) \\\n",
        "    .withColumn(\"cod_cuenta\", trim(col(\"cod_cuenta\"))) \\\n",
        "    .withColumn(\"TIPO_CUENTA\", when(col(\"PECODPRO\") == '00', 'CUENTA CORRIENTE M/L') \\\n",
        "        .when(col(\"PECODPRO\") == '17', 'CHEQ. ELECTRONICA') \\\n",
        "        .when(col(\"PECODPRO\") == '11', 'CUENTA VISTA') \\\n",
        "        .when(col(\"PECODPRO\") == '51', 'CUENTA CORRIENTE M/X') \\\n",
        "        .when(col(\"PECODPRO\") == '70', 'AHORRO VISTA BANCO') \\\n",
        "        .otherwise('OTRO PRODUCTO REVISAR')) \\\n",
        "    .withColumn(\"MONTO\", sum(col(\"MONTO\"))) \\\n",
        "    .withColumn(\"NRO_TRX\", count(\"*\"))\n",
        "\n",
        "df.write.saveAsTable(\"cuplimiento_cve\")\n"
      ]
    }
  ]
}