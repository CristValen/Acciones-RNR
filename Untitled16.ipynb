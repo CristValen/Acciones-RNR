{
  "nbformat": 4,
  "nbformat_minor": 0,
  "metadata": {
    "colab": {
      "provenance": [],
      "authorship_tag": "ABX9TyNOcu9f1rs+30MmnQ/WzniY"
    },
    "kernelspec": {
      "name": "python3",
      "display_name": "Python 3"
    },
    "language_info": {
      "name": "python"
    }
  },
  "cells": [
    {
      "cell_type": "code",
      "execution_count": null,
      "metadata": {
        "id": "fo8nFF8yHkaI"
      },
      "outputs": [],
      "source": [
        "from pyspark.sql import SparkSession\n",
        "from pyspark.sql.functions import split, trim, concat, when, col\n",
        "\n",
        "spark = SparkSession.builder.getOrCreate()\n",
        "\n",
        "\n",
        "df = spark.table(\"gcumplimiento.tbl_ssv_base_estudio_efectivo_mes_act_cve\").alias(\"A\") \\\n",
        "    .join(spark.table(\"bu_per.pedt008\").alias(\"B\"),\n",
        "          (trim(col(\"A.cod_cuenta\")) == trim(col(\"B.PENUMCON\"))) &\n",
        "          (col(\"B.pecalpar\") == 'TI') &\n",
        "          (col(\"B.peestrel\") == 'A') &\n",
        "          (col(\"B.peordpar\") == 1),\n",
        "          \"inner\") \\\n",
        "    .join(spark.table(\"bu_per.pedt001\").alias(\"C\"), col(\"C.penumper\") == col(\"B.PENUMPER\"), \"inner\") \\\n",
        "    .join(spark.table(\"bu_tc.tcdtgen\").alias(\"h\"), trim(col(\"C.pesucadm\").substr(1, 3)) == trim(col(\"h.gen_CLAVE\")) & (col(\"h.gen_tabla\") == '0232'), \"left\") \\\n",
        "    .join(spark.table(\"bu_tc.tcdtgen\").alias(\"x4\"), trim(col(\"C.PEACTRIU\")) == trim(col(\"x4.gen_CLAVE\")) & (col(\"x4.gen_tabla\") == '0315'), \"left\") \\\n",
        "    .join(spark.table(\"bu_tc.tcdtgen\").alias(\"x1\"), trim(col(\"C.PECODACT\")) == trim(col(\"x1.gen_CLAVE\")) & (col(\"x1.gen_tabla\") == '0304'), \"left\") \\\n",
        "    .withColumn(\"NOMBRE_COMPLETO\", concat(trim(col(\"C.PENOMPER\")), ' ', trim(col(\"C.pepriape\")), ' ', trim(col(\"C.PESEGAPE\")))) \\\n",
        "    .withColumn(\"TIPO_CUENTA\", when(col(\"PECODPRO\") == '00', 'CUENTA CORRIENTE M/L') \\\n",
        "        .when(col(\"PECODPRO\") == '17', 'CHEQ. ELECTRONICA') \\\n",
        "        .when(col(\"PECODPRO\") == '11', 'CUENTA VISTA') \\\n",
        "        .when(col(\"PECODPRO\") == '51', 'CUENTA CORRIENTE M/X') \\\n",
        "        .when(col(\"PECODPRO\") == '70', 'AHORRO VISTA BANCO') \\\n",
        "        .otherwise('OTRO PRODUCTO REVISAR')) \\\n",
        "    .groupBy(\"cod_cuenta\", \"PECODPRO\", \"B.PENUMPER\", \"C.PENUMDOC\", \"NOMBRE_COMPLETO\", \"C.PEFECING\", \"petipper\", \"C.peconper\", split(col(\"h.GEN_DATOS\"), \"  \")[0], split(col(\"x4.GEN_DATOS\"), \"  \")[0], split(col(\"x1.GEN_DATOS\"), \"  \")[0]) \\\n",
        "    .agg(sum(col(\"MONTO\")).alias(\"MONTO\"), count(\"*\").alias(\"NRO_TRX\"))\n"
      ]
    }
  ]
}