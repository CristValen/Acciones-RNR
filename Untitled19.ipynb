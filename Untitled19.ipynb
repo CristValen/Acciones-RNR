{
  "nbformat": 4,
  "nbformat_minor": 0,
  "metadata": {
    "colab": {
      "provenance": [],
      "authorship_tag": "ABX9TyMvRoFXESLbhURFjJrPRqIl"
    },
    "kernelspec": {
      "name": "python3",
      "display_name": "Python 3"
    },
    "language_info": {
      "name": "python"
    }
  },
  "cells": [
    {
      "cell_type": "code",
      "execution_count": null,
      "metadata": {
        "colab": {
          "base_uri": "https://localhost:8080/"
        },
        "id": "jTYfA5cQIEpp",
        "outputId": "643d1198-470a-460f-f022-345624ea966b"
      },
      "outputs": [
        {
          "output_type": "stream",
          "name": "stdout",
          "text": [
            "Requirement already satisfied: pyspark in /usr/local/lib/python3.10/dist-packages (3.5.1)\n",
            "Requirement already satisfied: py4j==0.10.9.7 in /usr/local/lib/python3.10/dist-packages (from pyspark) (0.10.9.7)\n"
          ]
        }
      ],
      "source": [
        "!pip install pyspark\n",
        "from pyspark.sql import SparkSession\n",
        "\n",
        "# Iniciar una sesión de Spark\n",
        "spark = SparkSession.builder \\\n",
        "    .appName(\"Python Spark SQL basic example\") \\\n",
        "    .config(\"spark.some.config.option\", \"some-value\") \\\n",
        "    .getOrCreate()"
      ]
    },
    {
      "cell_type": "code",
      "source": [],
      "metadata": {
        "id": "u8Vfnvq8Inao"
      },
      "execution_count": null,
      "outputs": []
    },
    {
      "cell_type": "code",
      "source": [
        "import pandas as pd\n",
        "\n",
        "df = spark.read.format('csv').option('header','true').option('delimiter', ',').load('/content/sample_data/mnist_test.csv')"
      ],
      "metadata": {
        "id": "84xlzw40QQb8"
      },
      "execution_count": null,
      "outputs": []
    },
    {
      "cell_type": "code",
      "source": [
        "columnas = df.columns\n",
        "df2 = df.select(columnas[10:12])"
      ],
      "metadata": {
        "id": "AOceAfxHTQc6"
      },
      "execution_count": null,
      "outputs": []
    },
    {
      "cell_type": "code",
      "source": [
        "df2.show()"
      ],
      "metadata": {
        "colab": {
          "base_uri": "https://localhost:8080/"
        },
        "id": "gpihPVyWUZrj",
        "outputId": "50629028-c571-4395-97d8-20a64657376d"
      },
      "execution_count": null,
      "outputs": [
        {
          "output_type": "stream",
          "name": "stdout",
          "text": [
            "+---+---+\n",
            "|010|011|\n",
            "+---+---+\n",
            "|  0|  0|\n",
            "|  0|  0|\n",
            "|  0|  0|\n",
            "|  0|  0|\n",
            "|  0|  0|\n",
            "|  0|  0|\n",
            "|  0|  0|\n",
            "|  0|  0|\n",
            "|  0|  0|\n",
            "|  0|  0|\n",
            "|  0|  0|\n",
            "|  0|  0|\n",
            "|  0|  0|\n",
            "|  0|  0|\n",
            "|  0|  0|\n",
            "|  0|  0|\n",
            "|  0|  0|\n",
            "|  0|  0|\n",
            "|  0|  0|\n",
            "|  0|  0|\n",
            "+---+---+\n",
            "only showing top 20 rows\n",
            "\n"
          ]
        }
      ]
    },
    {
      "cell_type": "code",
      "source": [
        "import matplotlib.pyplot as plt\n",
        "import math\n",
        "\n",
        "# Tamaño de la población\n",
        "N = 2799\n",
        "\n",
        "# Valores de Z para diferentes niveles de confianza\n",
        "Z_values = [1.70, 1.75, 1.81, 1.88, 1.96, 2.05, 2.17, 2.33]  # 91%, 92%, 93%, 94%, 95%, 96%, 97%, 98% de confianza\n",
        "\n",
        "# Valores de E para diferentes márgenes de error\n",
        "E_values = [0.01, 0.02, 0.03, 0.04, 0.05]  # 1%, 2%, 3%, 4%, 5% de margen de error\n",
        "\n",
        "# Crear una figura y un conjunto de subgráficos\n",
        "fig, axs = plt.subplots(len(Z_values), len(E_values), figsize=(15, 15))\n",
        "\n",
        "# Calcular y graficar el tamaño de la muestra para cada combinación de Z y E\n",
        "for i, Z in enumerate(Z_values):\n",
        "    for j, E in enumerate(E_values):\n",
        "        X = Z**2 * 0.25  # Varianza máxima para una distribución binomial\n",
        "        n = N * X / ((N - 1) * E**2 + X)\n",
        "        axs[i, j].plot([0, N], [n, n], 'r-')\n",
        "        axs[i, j].set_title(f'IC={int(Z*10)}%, Error={int(E*100)}%, Muestra={int(n)}')\n",
        "        axs[i, j].set_xlabel('Tamaño de la población')\n",
        "        axs[i, j].set_ylabel('Tamaño de la muestra')\n",
        "\n",
        "# Ajustar el diseño\n",
        "plt.tight_layout()\n",
        "plt.show()\n",
        "\n"
      ],
      "metadata": {
        "id": "MsKnph8rmsrw"
      },
      "execution_count": null,
      "outputs": []
    }
  ]
}