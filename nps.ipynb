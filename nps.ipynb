{
  "nbformat": 4,
  "nbformat_minor": 0,
  "metadata": {
    "colab": {
      "provenance": [],
      "authorship_tag": "ABX9TyPpOs/ApG+B0qUt9Aarc6l3",
      "include_colab_link": true
    },
    "kernelspec": {
      "name": "python3",
      "display_name": "Python 3"
    },
    "language_info": {
      "name": "python"
    }
  },
  "cells": [
    {
      "cell_type": "markdown",
      "metadata": {
        "id": "view-in-github",
        "colab_type": "text"
      },
      "source": [
        "<a href=\"https://colab.research.google.com/github/CristValen/Acciones-RNR/blob/main/nps.ipynb\" target=\"_parent\"><img src=\"https://colab.research.google.com/assets/colab-badge.svg\" alt=\"Open In Colab\"/></a>"
      ]
    },
    {
      "cell_type": "code",
      "execution_count": null,
      "metadata": {
        "id": "OAtGfiwYZC3g"
      },
      "outputs": [],
      "source": [
        "from sklearn.ensemble import RandomForestClassifier\n",
        "from sklearn.model_selection import train_test_split\n",
        "from sklearn.metrics import classification_report, confusion_matrix, accuracy_score, roc_auc_score\n",
        "from sklearn.preprocessing import LabelBinarizer\n",
        "import pandas as pd\n",
        "\n",
        "# Supongamos que 'df' es tu DataFrame y que 'clase' es tu variable objetivo\n",
        "df = pd.read_csv('tu_archivo.csv')\n",
        "\n",
        "# Crear las variables objetivo y características\n",
        "X = df.drop('clase', axis=1)\n",
        "y = df['clase']\n",
        "\n",
        "# Dividir los datos en conjuntos de entrenamiento y prueba\n",
        "X_train, X_test, y_train, y_test = train_test_split(X, y, test_size=0.2, random_state=42)\n",
        "\n",
        "# Crear el modelo de Random Forest\n",
        "modelo = RandomForestClassifier(n_estimators=100, random_state=42)\n",
        "\n",
        "# Entrenar el modelo\n",
        "modelo.fit(X_train, y_train)\n",
        "\n",
        "# Hacer predicciones en el conjunto de prueba\n",
        "predicciones = modelo.predict(X_test)\n",
        "\n",
        "# Imprimir un informe de clasificación\n",
        "print(\"Informe de clasificación:\")\n",
        "print(classification_report(y_test, predicciones))\n",
        "\n",
        "# Imprimir la matriz de confusión\n",
        "print(\"Matriz de confusión:\")\n",
        "print(confusion_matrix(y_test, predicciones))\n",
        "\n",
        "# Imprimir la precisión del modelo\n",
        "print(\"Precisión del modelo:\")\n",
        "print(accuracy_score(y_test, predicciones))\n",
        "\n",
        "# Calcular e imprimir la puntuación AUC-ROC para cada clase\n",
        "lb = LabelBinarizer()\n",
        "lb.fit(y_test)\n",
        "y_test_lb = lb.transform(y_test)\n",
        "predicciones_lb = lb.transform(predicciones)\n",
        "print(\"Puntuación AUC-ROC para cada clase:\")\n",
        "for i in range(len(lb.classes_)):\n",
        "    print(f\"{lb.classes_[i]}: {roc_auc_score(y_test_lb[:, i], predicciones_lb[:, i])}\")\n"
      ]
    }
  ]
}