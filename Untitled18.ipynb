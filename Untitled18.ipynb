{
  "nbformat": 4,
  "nbformat_minor": 0,
  "metadata": {
    "colab": {
      "provenance": [],
      "authorship_tag": "ABX9TyPbYOdcGc1AJeJaqeXNwL8S"
    },
    "kernelspec": {
      "name": "python3",
      "display_name": "Python 3"
    },
    "language_info": {
      "name": "python"
    }
  },
  "cells": [
    {
      "cell_type": "code",
      "source": [
        "from pyspark.sql.functions import udf, col\n",
        "from pyspark.sql.types import StringType\n",
        "\n",
        "# Supongamos que tienes un diccionario que asigna un peso a cada nivel jurídico\n",
        "pesos_juridicos = {'nivel1': 3.85, 'nivel2': 3.85, ..., 'nivel26': 3.85}\n",
        "\n",
        "# Definimos una función para obtener el peso de cada nivel jurídico\n",
        "def obtener_peso_juridico(nivel):\n",
        "    # Convertimos el porcentaje a una fracción del peso total (5%)\n",
        "    peso_total = pesos_juridicos[nivel] * 0.05\n",
        "    return peso_total\n",
        "\n",
        "# Convertimos la función en una UDF\n",
        "obtener_peso_juridico_udf = udf(obtener_peso_juridico, StringType())\n",
        "\n",
        "# Añadimos una columna al DataFrame con el peso de cada nivel jurídico\n",
        "df = df.withColumn('peso_juridico', obtener_peso_juridico_udf(col('nivel_juridica')))\n",
        "\n",
        "# Ajustamos los pesos de las otras variables para que sumen el 95% restante\n",
        "df = df.withColumn('peso_var1_ajustado', col('peso_var1') * 0.95)\n",
        "df = df.withColumn('peso_var2_ajustado', col('peso_var2') * 0.95)\n",
        "\n",
        "# Calculamos el riesgo total incluyendo la variable jurídica\n",
        "df_con_riesgo_total = df.withColumn('riesgo_total', df['peso_var1_ajustado'] + df['peso_var2_ajustado'] + df['peso_juridico'])\n",
        "\n",
        "# Clasificamos el riesgo total\n",
        "df_con_riesgo_total = df_con_riesgo_total.withColumn('clasificacion_riesgo_total', calcular_riesgo_total_udf(df_con_riesgo_total['peso_var1_ajustado'], df_con_riesgo_total['peso_var2_ajustado'], df_con_riesgo_total['nivel_juridica']))\n",
        "\n",
        "df_con_riesgo_total.show()\n"
      ],
      "metadata": {
        "id": "--X7ogcegFf1"
      },
      "execution_count": null,
      "outputs": []
    },
    {
      "cell_type": "code",
      "source": [
        "from pyspark.sql.functions import udf\n",
        "from pyspark.sql.types import StringType\n",
        "\n",
        "# Definimos la función para calcular el riesgo total\n",
        "def calcular_riesgo_total(peso_var1, peso_var2, valor_juridico):\n",
        "    # Calculamos el riesgo total con el nuevo peso\n",
        "    riesgo_total = peso_var1 + peso_var2 + (valor_juridico * 0.05)\n",
        "\n",
        "    # Clasificamos el riesgo total\n",
        "    if riesgo_total < 35:\n",
        "        return 'riesgo bajo'\n",
        "    elif 35 <= riesgo_total < 90:\n",
        "        return 'riesgo medio'\n",
        "    else:\n",
        "        return 'riesgo alto'\n",
        "\n",
        "# Convertimos la función en una UDF de PySpark\n",
        "calcular_riesgo_total_udf = udf(calcular_riesgo_total, StringType())\n"
      ],
      "metadata": {
        "id": "cPCqBEr3o-94"
      },
      "execution_count": null,
      "outputs": []
    },
    {
      "cell_type": "code",
      "source": [
        "from sklearn.mixture import GaussianMixture\n",
        "from sklearn.preprocessing import StandardScaler\n",
        "from sklearn.metrics import silhouette_score\n",
        "import matplotlib.pyplot as plt\n",
        "import numpy as np\n",
        "\n",
        "\n",
        "import pandas as pd\n",
        "\n",
        "\n",
        "df = pd.read_csv('/content/kmeans2.csv')\n",
        "\n",
        "# Normalizar los datos\n",
        "scaler = StandardScaler()\n",
        "X = scaler.fit_transform(df)\n",
        "\n",
        "# Ajustar un modelo de mezcla gaussiana con dos componentes\n",
        "gmm = GaussianMixture(n_components=5)\n",
        "gmm.fit(X)\n",
        "\n",
        "# Mostrar los parámetros aprendidos\n",
        "print(\"Medias aprendidas: \\n\", gmm.means_)\n",
        "print(\"Covarianzas aprendidas: \\n\", gmm.covariances_)\n",
        "\n",
        "# Calcular el coeficiente de silueta\n",
        "labels = gmm.predict(X)\n",
        "silhouette = silhouette_score(X, labels)\n",
        "print(\"Coeficiente de silueta: \", silhouette)\n",
        "\n",
        "# Visualizar los resultados\n",
        "plt.scatter(X[:, 0], X[:, 1], c=labels, s=40, cmap='viridis')\n",
        "plt.title('Visualización de GMM')\n",
        "plt.show()\n",
        "\n",
        "from sklearn.mixture import GaussianMixture\n",
        "import matplotlib.pyplot as plt\n",
        "\n",
        "\n",
        "n_components = np.arange(1, 5)\n",
        "models = [GaussianMixture(n, covariance_type='full', random_state=12345).fit(X)\n",
        "          for n in n_components]\n",
        "\n",
        "plt.plot(n_components, [m.bic(X) for m in models], label='BIC')\n",
        "plt.plot(n_components, [m.aic(X) for m in models], label='AIC')\n",
        "plt.legend(loc='best')\n",
        "plt.xlabel('numero_componentes');\n"
      ],
      "metadata": {
        "id": "Ww_mlYn2gusL"
      },
      "execution_count": null,
      "outputs": []
    }
  ]
}