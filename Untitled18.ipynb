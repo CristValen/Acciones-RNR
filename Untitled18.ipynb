{
  "nbformat": 4,
  "nbformat_minor": 0,
  "metadata": {
    "colab": {
      "provenance": [],
      "authorship_tag": "ABX9TyMrmd/XUBh4S9Pfgncr1GAV"
    },
    "kernelspec": {
      "name": "python3",
      "display_name": "Python 3"
    },
    "language_info": {
      "name": "python"
    }
  },
  "cells": [
    {
      "cell_type": "code",
      "source": [
        "from pyspark.sql.functions import udf, col\n",
        "from pyspark.sql.types import StringType\n",
        "\n",
        "# Supongamos que 'peso_var1' es el peso de la única variable que estamos considerando\n",
        "# y que 'nivel_juridica' es la columna con los niveles jurídicos.\n",
        "\n",
        "# Ajustamos el peso de la variable al 95% de su valor\n",
        "df = df.withColumn('peso_var1_ajustado', col('peso_var1') * 0.95)\n",
        "\n",
        "# Definimos una función para obtener el valor ponderado de la entidad jurídica\n",
        "def obtener_valor_juridico(nivel):\n",
        "    # Aquí debes definir cómo se traduce el nivel jurídico a un valor numérico\n",
        "    # Por ejemplo, podrías tener un diccionario o una función que asigne un valor\n",
        "    valor_juridico = ... # Implementa la lógica para obtener el valor numérico\n",
        "    return valor_juridico\n",
        "\n",
        "# Definimos la función para calcular el riesgo total\n",
        "def calcular_riesgo_total(peso_var1, valor_juridico):\n",
        "    # Calculamos el riesgo total con el nuevo peso\n",
        "    riesgo_total = peso_var1 + (valor_juridico * 0.05)\n",
        "\n",
        "    # Clasificamos el riesgo total\n",
        "    if riesgo_total < 35:\n",
        "        return 'riesgo bajo'\n",
        "    elif 35 <= riesgo_total < 90:\n",
        "        return 'riesgo medio'\n",
        "    else:\n",
        "        return 'riesgo alto'\n",
        "\n",
        "# Convertimos las funciones en UDFs de PySpark\n",
        "obtener_valor_juridico_udf = udf(obtener_valor_juridico, StringType())\n",
        "calcular_riesgo_total_udf = udf(calcular_riesgo_total, StringType())\n",
        "\n",
        "# Aplicamos la UDF para obtener el valor jurídico\n",
        "df = df.withColumn('valor_juridico', obtener_valor_juridico_udf(col('nivel_juridica')))\n",
        "\n",
        "# Aplicamos la UDF para calcular el riesgo total y clasificarlo\n",
        "df_con_riesgo_total = df.withColumn('clasificacion_riesgo_total', calcular_riesgo_total_udf(df['peso_var1_ajustado'], df['valor_juridico']))\n",
        "\n",
        "df_con_riesgo_total.show()\n"
      ],
      "metadata": {
        "id": "--X7ogcegFf1"
      },
      "execution_count": null,
      "outputs": []
    },
    {
      "cell_type": "code",
      "source": [
        "from pyspark.sql.functions import udf\n",
        "from pyspark.sql.types import StringType\n",
        "\n",
        "# Definimos la función para calcular el riesgo total\n",
        "def calcular_riesgo_total(peso_var1, peso_var2, valor_juridico):\n",
        "    # Calculamos el riesgo total con el nuevo peso\n",
        "    riesgo_total = peso_var1 + peso_var2 + (valor_juridico * 0.05)\n",
        "\n",
        "    # Clasificamos el riesgo total\n",
        "    if riesgo_total < 35:\n",
        "        return 'riesgo bajo'\n",
        "    elif 35 <= riesgo_total < 90:\n",
        "        return 'riesgo medio'\n",
        "    else:\n",
        "        return 'riesgo alto'\n",
        "\n",
        "# Convertimos la función en una UDF de PySpark\n",
        "calcular_riesgo_total_udf = udf(calcular_riesgo_total, StringType())\n"
      ],
      "metadata": {
        "id": "cPCqBEr3o-94"
      },
      "execution_count": null,
      "outputs": []
    },
    {
      "cell_type": "code",
      "source": [
        "from sklearn.mixture import GaussianMixture\n",
        "from sklearn.preprocessing import StandardScaler\n",
        "from sklearn.metrics import silhouette_score\n",
        "import matplotlib.pyplot as plt\n",
        "import numpy as np\n",
        "\n",
        "\n",
        "import pandas as pd\n",
        "\n",
        "\n",
        "df = pd.read_csv('/content/kmeans2.csv')\n",
        "\n",
        "# Normalizar los datos\n",
        "scaler = StandardScaler()\n",
        "X = scaler.fit_transform(df)\n",
        "\n",
        "# Ajustar un modelo de mezcla gaussiana con dos componentes\n",
        "gmm = GaussianMixture(n_components=5)\n",
        "gmm.fit(X)\n",
        "\n",
        "# Mostrar los parámetros aprendidos\n",
        "print(\"Medias aprendidas: \\n\", gmm.means_)\n",
        "print(\"Covarianzas aprendidas: \\n\", gmm.covariances_)\n",
        "\n",
        "# Calcular el coeficiente de silueta\n",
        "labels = gmm.predict(X)\n",
        "silhouette = silhouette_score(X, labels)\n",
        "print(\"Coeficiente de silueta: \", silhouette)\n",
        "\n",
        "# Visualizar los resultados\n",
        "plt.scatter(X[:, 0], X[:, 1], c=labels, s=40, cmap='viridis')\n",
        "plt.title('Visualización de GMM')\n",
        "plt.show()\n",
        "\n",
        "from sklearn.mixture import GaussianMixture\n",
        "import matplotlib.pyplot as plt\n",
        "\n",
        "\n",
        "n_components = np.arange(1, 5)\n",
        "models = [GaussianMixture(n, covariance_type='full', random_state=12345).fit(X)\n",
        "          for n in n_components]\n",
        "\n",
        "plt.plot(n_components, [m.bic(X) for m in models], label='BIC')\n",
        "plt.plot(n_components, [m.aic(X) for m in models], label='AIC')\n",
        "plt.legend(loc='best')\n",
        "plt.xlabel('numero_componentes');\n"
      ],
      "metadata": {
        "id": "Ww_mlYn2gusL"
      },
      "execution_count": null,
      "outputs": []
    }
  ]
}