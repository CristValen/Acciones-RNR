{
  "nbformat": 4,
  "nbformat_minor": 0,
  "metadata": {
    "colab": {
      "provenance": [],
      "authorship_tag": "ABX9TyNUnCiXuvRdgf2QnCj8VFwF",
      "include_colab_link": true
    },
    "kernelspec": {
      "name": "python3",
      "display_name": "Python 3"
    },
    "language_info": {
      "name": "python"
    }
  },
  "cells": [
    {
      "cell_type": "markdown",
      "metadata": {
        "id": "view-in-github",
        "colab_type": "text"
      },
      "source": [
        "<a href=\"https://colab.research.google.com/github/CristValen/Acciones-RNR/blob/main/Untitled12.ipynb\" target=\"_parent\"><img src=\"https://colab.research.google.com/assets/colab-badge.svg\" alt=\"Open In Colab\"/></a>"
      ]
    },
    {
      "cell_type": "code",
      "execution_count": null,
      "metadata": {
        "id": "S4c04Wd4THHx"
      },
      "outputs": [],
      "source": [
        "import pandas as pd\n",
        "import networkx as nx\n",
        "\n",
        "# Cargar los datos desde un archivo Excel\n",
        "df = pd.read_excel('ruta_al_archivo.xlsx')\n",
        "\n",
        "# Crear un grafo vacío\n",
        "G = nx.Graph()\n",
        "\n",
        "# Añadir nodos al grafo con atributos\n",
        "for i, row in df.iterrows():\n",
        "    G.add_node(row['rut'], banca=row['banca'], pais_origen=row['pais_origen'], pais_nacionalidad=row['pais_nacionalidad'], pais_residencia=row['pais_residencia'])\n",
        "\n",
        "# Establecer las relaciones con atributos\n",
        "for i, row in df.iterrows():\n",
        "    G.add_edge(row['rut'], row['rut_relacionado'], tipo_relacion=row['tipo_relacion'], codigo_relacion=row['codigo_relacion'], porcentaje_participacion=row['porcentaje_participacion'], fecha_inicio=row['fecha_inicio'], fecha_vencimiento=row['fecha_vencimiento'])\n",
        "\n",
        "# Ahora puedes usar NetworkX para analizar tu red\n"
      ]
    },
    {
      "cell_type": "code",
      "source": [
        "import chardet\n",
        "\n",
        "rawdata = open('ruta_al_archivo.xlsx', 'rb').read()\n",
        "result = chardet.detect(rawdata)\n",
        "encoding = result['encoding']\n",
        "\n",
        "df = pd.read_excel('ruta_al_archivo.xlsx', encoding=encoding)\n"
      ],
      "metadata": {
        "id": "cHbQNHC_kfLL"
      },
      "execution_count": null,
      "outputs": []
    }
  ]
}