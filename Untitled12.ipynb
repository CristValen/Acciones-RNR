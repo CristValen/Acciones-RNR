{
  "nbformat": 4,
  "nbformat_minor": 0,
  "metadata": {
    "colab": {
      "provenance": [],
      "authorship_tag": "ABX9TyO0nMhBLsBCsO4ZNk/85UOL",
      "include_colab_link": true
    },
    "kernelspec": {
      "name": "python3",
      "display_name": "Python 3"
    },
    "language_info": {
      "name": "python"
    }
  },
  "cells": [
    {
      "cell_type": "markdown",
      "metadata": {
        "id": "view-in-github",
        "colab_type": "text"
      },
      "source": [
        "<a href=\"https://colab.research.google.com/github/CristValen/Acciones-RNR/blob/main/Untitled12.ipynb\" target=\"_parent\"><img src=\"https://colab.research.google.com/assets/colab-badge.svg\" alt=\"Open In Colab\"/></a>"
      ]
    },
    {
      "cell_type": "code",
      "execution_count": null,
      "metadata": {
        "id": "S4c04Wd4THHx"
      },
      "outputs": [],
      "source": [
        "import pandas as pd\n",
        "import networkx as nx\n",
        "\n",
        "# Cargar los datos desde un archivo Excel\n",
        "df = pd.read_excel('ruta_al_archivo.xlsx')\n",
        "\n",
        "# Crear un grafo vacío\n",
        "G = nx.Graph()\n",
        "\n",
        "# Añadir nodos al grafo con atributos\n",
        "for i, row in df.iterrows():\n",
        "    G.add_node(row['rut'], banca=row['banca'], pais_origen=row['pais_origen'], pais_nacionalidad=row['pais_nacionalidad'], pais_residencia=row['pais_residencia'])\n",
        "\n",
        "# Establecer las relaciones con atributos\n",
        "for i, row in df.iterrows():\n",
        "    G.add_edge(row['rut'], row['rut_relacionado'], tipo_relacion=row['tipo_relacion'], codigo_relacion=row['codigo_relacion'], porcentaje_participacion=row['porcentaje_participacion'], fecha_inicio=row['fecha_inicio'], fecha_vencimiento=row['fecha_vencimiento'])\n",
        "\n",
        "# Ahora puedes usar NetworkX para analizar tu red"
      ]
    },
    {
      "cell_type": "code",
      "source": [
        "import chardet\n",
        "\n",
        "rawdata = open('ruta_al_archivo.xlsx', 'rb').read()\n",
        "result = chardet.detect(rawdata)\n",
        "encoding = result['encoding']\n",
        "\n",
        "df = pd.read_excel('ruta_al_archivo.xlsx', encoding=encoding)"
      ],
      "metadata": {
        "id": "cHbQNHC_kfLL"
      },
      "execution_count": null,
      "outputs": []
    },
    {
      "cell_type": "code",
      "source": [
        "\n",
        "# Cargar las bibliotecas necesarias\n",
        "library(ggplot2)\n",
        "library(dplyr)\n",
        "library(tidyr)\n",
        "\n",
        "# Supongamos que 'df' es tu dataframe\n",
        "\n",
        "# Calcular el porcentaje de nulos en cada columna\n",
        "nulos <- df %>%\n",
        "  summarise_all(function(x) mean(is.na(x))) %>%\n",
        "  gather(key = \"columna\", value = \"porcentaje_nulos\")\n",
        "\n",
        "# Crear el gráfico de barras\n",
        "ggplot(nulos, aes(x = columna, y = porcentaje_nulos)) +\n",
        "  geom_bar(stat = \"identity\") +\n",
        "  scale_y_continuous(labels = scales::percent) +\n",
        "  labs(x = \"Columna\", y = \"Porcentaje de nulos\", title = \"Porcentaje de nulos por columna\") +\n",
        "  theme(axis.text.x = element_text(angle = 45, hjust = 1)) # Cambiar el ángulo a 45 grados"
      ],
      "metadata": {
        "id": "SFstewXqIAFD"
      },
      "execution_count": null,
      "outputs": []
    },
    {
      "cell_type": "code",
      "source": [
        "# prompt: hola en pyspark comopuedo tranformar a formato fecha dos columnas despues sumar un dia a la primera columna y despues restar ambas columnas\n",
        "\n",
        "from pyspark.sql.functions import to_date, date_add, datediff\n",
        "\n",
        "df = df.withColumn(\"fecha1\", to_date(df[\"fecha1\"], \"yyyy-MM-dd\"))\n",
        "df = df.withColumn(\"fecha2\", to_date(df[\"fecha2\"], \"yyyy-MM-dd\"))\n",
        "\n",
        "df = df.withColumn(\"fecha1\", date_add(df[\"fecha1\"], 1))\n",
        "df = df.withColumn(\"diferencia\", datediff(df[\"fecha1\"], df[\"fecha2\"]))\n"
      ],
      "metadata": {
        "id": "3to7bfV7wGUt"
      },
      "execution_count": null,
      "outputs": []
    },
    {
      "cell_type": "code",
      "source": [
        "from pyspark.sql import functions as F\n",
        "\n",
        "# Tu dataframe (df)\n",
        "# df = tu_dataframe\n",
        "\n",
        "# Crea un diccionario para almacenar los porcentajes de valores nulos\n",
        "null_percentages = {}\n",
        "\n",
        "# Calcula los porcentajes de valores nulos en cada columna\n",
        "for col in df.columns:\n",
        "    null_count = df.filter(F.col(col).isNull()).count()\n",
        "    total_count = df.count()\n",
        "    null_percentages[col] = (null_count / total_count) * 100\n",
        "\n",
        "# Imprime los porcentajes de valores nulos\n",
        "for col, percentage in null_percentages.items():\n",
        "    print(f'{col}: {percentage}%')\n",
        "\n",
        "\n",
        "import matplotlib.pyplot as plt\n",
        "\n",
        "# Crea una gráfica de barras con los porcentajes de valores nulos\n",
        "plt.bar(null_percentages.keys(), null_percentages.values())\n",
        "plt.xlabel('Columnas')\n",
        "plt.ylabel('Porcentaje de valores nulos')\n",
        "plt.title('Porcentaje de valores nulos por columna')\n",
        "plt.xticks(rotation=90)  # Rota las etiquetas del eje x para mejorar la legibilidad\n",
        "plt.show()\n"
      ],
      "metadata": {
        "id": "9L4WdCa5zSrc"
      },
      "execution_count": null,
      "outputs": []
    },
    {
      "cell_type": "code",
      "source": [
        "# Cargamos las librerías necesarias\n",
        "library(dplyr)\n",
        "library(tidyr)\n",
        "library(ggplot2)\n",
        "\n",
        "# Supongamos que df[[1]] es tu dataframe\n",
        "df <- df[[1]]\n",
        "\n",
        "# Creamos un dataframe donde cada fila es una columna de tu dataframe original\n",
        "# y tiene el número de NA's en esa columna\n",
        "df_na <- df %>%\n",
        "  summarise(across(everything(), ~sum(is.na(.)), .names = \"na_count_{.col}\")) %>%\n",
        "  pivot_longer(everything(), names_to = \"columna\", values_to = \"na_count\")\n",
        "\n",
        "# Ahora graficamos el número de NA's por columna\n",
        "ggplot(df_na, aes(x = columna, y = na_count)) +\n",
        "  geom_bar(stat = \"identity\") +\n",
        "  theme(axis.text.x = element_text(angle = 90, hjust = 1)) +\n",
        "  labs(x = \"Columnas\", y = \"Número de NA's\", title = \"Número de NA's por columna\")"
      ],
      "metadata": {
        "id": "rd1oP3LBv2dI"
      },
      "execution_count": null,
      "outputs": []
    },
    {
      "cell_type": "code",
      "source": [
        "\n",
        "import networkx as nx\n",
        "from sklearn.cluster import KMeans\n",
        "\n",
        "# Supongamos que tus datos están en un DataFrame de pandas llamado df\n",
        "# df = pd.read_csv('ruta/a/tus/datos.csv')\n",
        "\n",
        "# Crear un grafo vacío\n",
        "G = nx.Graph()\n",
        "\n",
        "# Añadir nodos al grafo (por ejemplo, cada nodo puede ser una entidad (persona o empresa))\n",
        "for index, row in df.iterrows():\n",
        "    G.add_node(row['rut'],\n",
        "               tipo_persona=row['tipo de persona'],\n",
        "               pais_origen=row['pais de origen'],\n",
        "               pais_nacionalidad=row['pais de nacionalidad'],\n",
        "               pais_residencia=row['pais de residencia'])\n",
        "\n",
        "# Añadir bordes al grafo (por ejemplo, cada borde puede representar una relación entre dos entidades)\n",
        "for index, row in df.iterrows():\n",
        "    G.add_edge(row['rut'], row['rut relacionado'],\n",
        "               fecha_inicio=row['fecha de inicio'],\n",
        "               fecha_vencimiento=row['fecha vencimiento'],\n",
        "               tipo_relacion=row['tipo de relacion'],\n",
        "               porcentaje_participacion=row['porcentjae de participacion'])\n",
        "\n",
        "# Crear una matriz de adyacencia a partir del grafo\n",
        "A = nx.adjacency_matrix(G)\n",
        "\n",
        "# Aplicar el algoritmo de agrupamiento K-means a la matriz de adyacencia\n",
        "kmeans = KMeans(n_clusters=2, random_state=0).fit(A)\n",
        "\n",
        "# Los resultados del algoritmo K-means pueden ser utilizados para identificar patrones o anomalías en los datos de la red"
      ],
      "metadata": {
        "id": "1ERrK0ybn_Zd"
      },
      "execution_count": null,
      "outputs": []
    },
    {
      "cell_type": "code",
      "source": [
        "\n",
        "import matplotlib.pyplot as plt\n",
        "\n",
        "# Supongamos que tienes los resultados de K-means en la variable 'kmeans'\n",
        "# y tus datos en la variable 'A'\n",
        "\n",
        "# Obtén las etiquetas de los clusters\n",
        "labels = kmeans.labels_\n",
        "\n",
        "# Crea una figura y un conjunto de subtramas\n",
        "fig, ax = plt.subplots()\n",
        "\n",
        "# Para cada cluster\n",
        "for label in set(labels):\n",
        "    # Encuentra los puntos en este cluster\n",
        "    points = A[labels == label]\n",
        "    # Dibuja estos puntos en el gráfico\n",
        "    ax.scatter(points[:, 0], points[:, 1], label=f'Cluster {label}')\n",
        "\n",
        "# Muestra la leyenda\n",
        "ax.legend()\n",
        "\n",
        "# Muestra el gráfico\n",
        "plt.show()"
      ],
      "metadata": {
        "id": "LDRaWwJq5Wyj"
      },
      "execution_count": null,
      "outputs": []
    },
    {
      "cell_type": "code",
      "source": [
        "\n",
        "import matplotlib.pyplot as plt\n",
        "from sklearn.cluster import KMeans\n",
        "\n",
        "# Supongamos que tus datos están en un DataFrame de pandas llamado df\n",
        "# df = pd.read_csv('ruta/a/tus/datos.csv')\n",
        "\n",
        "# Crear una matriz de adyacencia a partir del grafo\n",
        "A = nx.adjacency_matrix(G)\n",
        "\n",
        "# Lista para guardar los valores de la inercia para cada número de clusters\n",
        "inertia = []\n",
        "\n",
        "# Rango de números de clusters que quieres probar\n",
        "K = range(1, 10)\n",
        "\n",
        "# Para cada número de clusters\n",
        "for k in K:\n",
        "    # Crea un objeto KMeans\n",
        "    kmeans = KMeans(n_clusters=k)\n",
        "    # Ajusta los datos\n",
        "    kmeans.fit(A)\n",
        "    # Guarda la inercia en la lista\n",
        "    inertia.append(kmeans.inertia_)\n",
        "\n",
        "# Crea una figura y un conjunto de subtramas\n",
        "fig, ax = plt.subplots()\n",
        "\n",
        "# Dibuja la línea de la inercia\n",
        "ax.plot(K, inertia, 'bx-')\n",
        "\n",
        "# Etiquetas de los ejes\n",
        "ax.set_xlabel('Número de clusters (k)')\n",
        "ax.set_ylabel('Inercia')\n",
        "\n",
        "# Muestra el gráfico\n",
        "plt.show()"
      ],
      "metadata": {
        "id": "pQ3Qgwo_7JxX"
      },
      "execution_count": null,
      "outputs": []
    },
    {
      "cell_type": "code",
      "source": [
        "library(dplyr)\n",
        "library(stringr)\n",
        "\n",
        "# Asegúrate de tener tu dataframe cargado, por ejemplo df\n",
        "\n",
        "# Define las reglas\n",
        "reglas <- c(\"financiera\", \"no participante\", \"activa\", \"pasiva\")\n",
        "\n",
        "# Crea una nueva columna 'cumple_reglas' que indica si cada fila cumple con las reglas\n",
        "df <- df %>%\n",
        "  mutate(cumple_reglas = sapply(cjp, function(x) {\n",
        "    palabras <- unlist(str_split(tolower(x), \" \"))\n",
        "    length(intersect(palabras, reglas)) <= 1\n",
        "  }))\n",
        "\n",
        "# Filtra las filas que no cumplen con las reglas\n",
        "df_no_cumple <- df %>%\n",
        "  filter(!cumple_reglas)\n"
      ],
      "metadata": {
        "id": "eRXi6S2idvDT"
      },
      "execution_count": null,
      "outputs": []
    }
  ]
}