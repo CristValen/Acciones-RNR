{
  "nbformat": 4,
  "nbformat_minor": 0,
  "metadata": {
    "colab": {
      "provenance": [],
      "authorship_tag": "ABX9TyNXlIXAWKGUwls2e8+yz4fP",
      "include_colab_link": true
    },
    "kernelspec": {
      "name": "python3",
      "display_name": "Python 3"
    },
    "language_info": {
      "name": "python"
    }
  },
  "cells": [
    {
      "cell_type": "markdown",
      "metadata": {
        "id": "view-in-github",
        "colab_type": "text"
      },
      "source": [
        "<a href=\"https://colab.research.google.com/github/CristValen/Acciones-RNR/blob/main/Untitled12.ipynb\" target=\"_parent\"><img src=\"https://colab.research.google.com/assets/colab-badge.svg\" alt=\"Open In Colab\"/></a>"
      ]
    },
    {
      "cell_type": "code",
      "execution_count": null,
      "metadata": {
        "id": "S4c04Wd4THHx"
      },
      "outputs": [],
      "source": [
        "import pandas as pd\n",
        "import networkx as nx\n",
        "\n",
        "# Cargar los datos desde un archivo Excel\n",
        "df = pd.read_excel('ruta_al_archivo.xlsx')\n",
        "\n",
        "# Crear un grafo vacío\n",
        "G = nx.Graph()\n",
        "\n",
        "# Añadir nodos al grafo con atributos\n",
        "for i, row in df.iterrows():\n",
        "    G.add_node(row['rut'], banca=row['banca'], pais_origen=row['pais_origen'], pais_nacionalidad=row['pais_nacionalidad'], pais_residencia=row['pais_residencia'])\n",
        "\n",
        "# Establecer las relaciones con atributos\n",
        "for i, row in df.iterrows():\n",
        "    G.add_edge(row['rut'], row['rut_relacionado'], tipo_relacion=row['tipo_relacion'], codigo_relacion=row['codigo_relacion'], porcentaje_participacion=row['porcentaje_participacion'], fecha_inicio=row['fecha_inicio'], fecha_vencimiento=row['fecha_vencimiento'])\n",
        "\n",
        "# Ahora puedes usar NetworkX para analizar tu red"
      ]
    },
    {
      "cell_type": "code",
      "source": [
        "import chardet\n",
        "\n",
        "rawdata = open('ruta_al_archivo.xlsx', 'rb').read()\n",
        "result = chardet.detect(rawdata)\n",
        "encoding = result['encoding']\n",
        "\n",
        "df = pd.read_excel('ruta_al_archivo.xlsx', encoding=encoding)"
      ],
      "metadata": {
        "id": "cHbQNHC_kfLL"
      },
      "execution_count": null,
      "outputs": []
    },
    {
      "cell_type": "code",
      "source": [
        "\n",
        "# Cargar las bibliotecas necesarias\n",
        "library(ggplot2)\n",
        "library(dplyr)\n",
        "library(tidyr)\n",
        "\n",
        "# Supongamos que 'df' es tu dataframe\n",
        "\n",
        "# Calcular el porcentaje de nulos en cada columna\n",
        "nulos <- df %>%\n",
        "  summarise_all(function(x) mean(is.na(x))) %>%\n",
        "  gather(key = \"columna\", value = \"porcentaje_nulos\")\n",
        "\n",
        "# Crear el gráfico de barras\n",
        "ggplot(nulos, aes(x = columna, y = porcentaje_nulos)) +\n",
        "  geom_bar(stat = \"identity\") +\n",
        "  scale_y_continuous(labels = scales::percent) +\n",
        "  labs(x = \"Columna\", y = \"Porcentaje de nulos\", title = \"Porcentaje de nulos por columna\") +\n",
        "  theme(axis.text.x = element_text(angle = 45, hjust = 1)) # Cambiar el ángulo a 45 grados"
      ],
      "metadata": {
        "id": "SFstewXqIAFD"
      },
      "execution_count": null,
      "outputs": []
    },
    {
      "cell_type": "code",
      "source": [
        "# prompt: hola en pyspark comopuedo tranformar a formato fecha dos columnas despues sumar un dia a la primera columna y despues restar ambas columnas\n",
        "\n",
        "from pyspark.sql.functions import to_date, date_add, datediff\n",
        "\n",
        "df = df.withColumn(\"fecha1\", to_date(df[\"fecha1\"], \"yyyy-MM-dd\"))\n",
        "df = df.withColumn(\"fecha2\", to_date(df[\"fecha2\"], \"yyyy-MM-dd\"))\n",
        "\n",
        "df = df.withColumn(\"fecha1\", date_add(df[\"fecha1\"], 1))\n",
        "df = df.withColumn(\"diferencia\", datediff(df[\"fecha1\"], df[\"fecha2\"]))\n"
      ],
      "metadata": {
        "id": "3to7bfV7wGUt"
      },
      "execution_count": null,
      "outputs": []
    },
    {
      "cell_type": "code",
      "source": [
        "from pyspark.sql import functions as F\n",
        "\n",
        "# Tu dataframe (df)\n",
        "# df = tu_dataframe\n",
        "\n",
        "# Crea un diccionario para almacenar los porcentajes de valores nulos\n",
        "null_percentages = {}\n",
        "\n",
        "# Calcula los porcentajes de valores nulos en cada columna\n",
        "for col in df.columns:\n",
        "    null_count = df.filter(F.col(col).isNull()).count()\n",
        "    total_count = df.count()\n",
        "    null_percentages[col] = (null_count / total_count) * 100\n",
        "\n",
        "# Imprime los porcentajes de valores nulos\n",
        "for col, percentage in null_percentages.items():\n",
        "    print(f'{col}: {percentage}%')\n",
        "\n",
        "\n",
        "import matplotlib.pyplot as plt\n",
        "\n",
        "# Crea una gráfica de barras con los porcentajes de valores nulos\n",
        "plt.bar(null_percentages.keys(), null_percentages.values())\n",
        "plt.xlabel('Columnas')\n",
        "plt.ylabel('Porcentaje de valores nulos')\n",
        "plt.title('Porcentaje de valores nulos por columna')\n",
        "plt.xticks(rotation=90)  # Rota las etiquetas del eje x para mejorar la legibilidad\n",
        "plt.show()\n"
      ],
      "metadata": {
        "id": "9L4WdCa5zSrc"
      },
      "execution_count": null,
      "outputs": []
    },
    {
      "cell_type": "code",
      "source": [
        "# Cargamos las librerías necesarias\n",
        "library(dplyr)\n",
        "library(tidyr)\n",
        "library(ggplot2)\n",
        "\n",
        "# Supongamos que df[[1]] es tu dataframe\n",
        "df <- df[[1]]\n",
        "\n",
        "# Creamos un dataframe donde cada fila es una columna de tu dataframe original\n",
        "# y tiene el número de NA's en esa columna\n",
        "df_na <- df %>%\n",
        "  summarise(across(everything(), ~sum(is.na(.)), .names = \"na_count_{.col}\")) %>%\n",
        "  pivot_longer(everything(), names_to = \"columna\", values_to = \"na_count\")\n",
        "\n",
        "# Ahora graficamos el número de NA's por columna\n",
        "ggplot(df_na, aes(x = columna, y = na_count)) +\n",
        "  geom_bar(stat = \"identity\") +\n",
        "  theme(axis.text.x = element_text(angle = 90, hjust = 1)) +\n",
        "  labs(x = \"Columnas\", y = \"Número de NA's\", title = \"Número de NA's por columna\")\n"
      ],
      "metadata": {
        "id": "rd1oP3LBv2dI"
      },
      "execution_count": null,
      "outputs": []
    }
  ]
}